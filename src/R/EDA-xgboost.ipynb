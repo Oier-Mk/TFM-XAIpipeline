{
 "cells": [
  {
   "cell_type": "markdown",
   "metadata": {},
   "source": [
    "# Reglas de asociación"
   ]
  },
  {
   "cell_type": "markdown",
   "metadata": {},
   "source": [
    "## Sobre el paquete xgboost:\n",
    "\n",
    "El paquete **XGBoost** es una biblioteca de software de aprendizaje automático que implementa el algoritmo de Gradient Boosting. Se puede encontrar la documentación oficial del paquete [aquí](https://cran.r-project.org/web/packages/xgboost/xgboost.pdf).\n",
    "\n",
    "Algunas de las características y funcionalidades principales del paquete incluyen:\n",
    "\n",
    "- **Algoritmo de Gradient Boosting**: Implementa el algoritmo de Gradient Boosting, que es ampliamente utilizado en problemas de regresión y clasificación.\n",
    "\n",
    "- **Eficiencia y rendimiento**: xgboost está diseñado para ser altamente eficiente y puede manejar grandes conjuntos de datos con rapidez y eficacia.\n",
    "\n",
    "- **Regularización integrada**: Incluye opciones para aplicar regularización para evitar el sobreajuste y mejorar la generalización del modelo.\n",
    "\n",
    "Es importante tener en cuenta que el éxito del análisis con **xgboost** depende en gran medida de la calidad del preprocesamiento de datos y la configuración adecuada de los hiperparámetros del modelo.\n",
    "\n",
    "## Preprocesamiento:\n",
    "\n",
    "Este tipo de análisis requiere un preprocesamiento de datos adecuado para garantizar la calidad del modelo entrenado. Algunas de las tareas de preprocesamiento que se pueden realizar incluyen:\n",
    "\n",
    "- **Limpieza de datos**: Eliminar datos faltantes, duplicados y cualquier otro ruido que pueda afectar la calidad de las reglas de asociación.\n",
    "\n",
    "- **Transformación de datos**: Convertir variables categóricas en variables numéricas mediante técnicas como one-hot encoding o label encoding.\n",
    "\n",
    "- **Escalamiento de características**: Normalizar o estandarizar las características para asegurar que todas estén en la misma escala.\n",
    "\n",
    "Una vez completado el preprocesamiento, se pueden utilizar las funciones proporcionadas por el paquete **xgboost** para entrenar y evaluar el modelo en los datos preparados.\n"
   ]
  },
  {
   "cell_type": "markdown",
   "metadata": {},
   "source": [
    "#### Librerias requeridas"
   ]
  },
  {
   "cell_type": "code",
   "execution_count": 9,
   "metadata": {
    "vscode": {
     "languageId": "r"
    }
   },
   "outputs": [],
   "source": [
    "library(tidyverse)\n",
    "source(\"Preprocesamiento/utils.R\")\n",
    "source(\"Preprocesamiento/plots.R\")"
   ]
  },
  {
   "cell_type": "markdown",
   "metadata": {},
   "source": [
    "#### Lectura del dataset"
   ]
  },
  {
   "cell_type": "code",
   "execution_count": 10,
   "metadata": {
    "vscode": {
     "languageId": "r"
    }
   },
   "outputs": [],
   "source": [
    "data <- read.csv(\"../data/Statlog_weights.csv\", header = TRUE, sep = \",\")"
   ]
  },
  {
   "cell_type": "markdown",
   "metadata": {},
   "source": [
    "#### Estructura de los datos"
   ]
  },
  {
   "cell_type": "code",
   "execution_count": 11,
   "metadata": {
    "vscode": {
     "languageId": "r"
    }
   },
   "outputs": [
    {
     "name": "stdout",
     "output_type": "stream",
     "text": [
      "'data.frame':\t1000 obs. of  23 variables:\n",
      " $ Class                                                   : int  1 2 1 1 2 1 1 1 1 2 ...\n",
      " $ Status.of.existing.checking.account                     : chr  \"< 0 DM\" \"0 - 200 DM\" \"no checking account\" \"< 0 DM\" ...\n",
      " $ Duration.in.month                                       : int  6 48 12 42 24 36 24 36 12 30 ...\n",
      " $ Credit.history                                          : chr  \"critical account\" \"existing credits paid\" \"critical account\" \"existing credits paid\" ...\n",
      " $ Purpose                                                 : chr  \"radio/television\" \"radio/television\" \"education\" \"furniture/equipment\" ...\n",
      " $ Credit.amount                                           : int  1169 5951 2096 7882 4870 9055 2835 6948 3059 5234 ...\n",
      " $ Savings.account.bonds                                   : chr  \"unknown/no savings\" \"< 100 DM\" \"< 100 DM\" \"< 100 DM\" ...\n",
      " $ Present.employment.since                                : chr  \">= 7 years\" \"1 - 4 years\" \"4 - 7 years\" \"4 - 7 years\" ...\n",
      " $ Installment.rate.in.percentage.of.disposable.income     : int  4 2 2 2 3 2 3 2 2 4 ...\n",
      " $ Other.debtors...guarantors                              : chr  \"none\" \"none\" \"none\" \"guarantor\" ...\n",
      " $ Present.residence.since                                 : int  4 2 3 4 4 4 4 2 4 2 ...\n",
      " $ Property                                                : chr  \"real estate\" \"real estate\" \"real estate\" \"building society savings\" ...\n",
      " $ Age.in.years                                            : int  67 22 49 45 53 35 53 35 61 28 ...\n",
      " $ Other.installment.plans                                 : chr  \"none\" \"none\" \"none\" \"none\" ...\n",
      " $ Housing                                                 : chr  \"own\" \"own\" \"own\" \"for free\" ...\n",
      " $ Number.of.existing.credits.at.this.bank                 : int  2 1 1 1 2 1 1 1 1 2 ...\n",
      " $ Job                                                     : chr  \"skilled employee\" \"skilled employee\" \"unskilled resident\" \"skilled employee\" ...\n",
      " $ Number.of.people.being.liable.to.provide.maintenance.for: int  1 1 2 2 2 2 1 1 1 1 ...\n",
      " $ Telephone                                               : chr  \"yes, registered\" \"none\" \"none\" \"none\" ...\n",
      " $ Foreign.worker                                          : chr  \"yes\" \"yes\" \"yes\" \"yes\" ...\n",
      " $ Gender                                                  : chr  \"male\" \"female\" \"male\" \"male\" ...\n",
      " $ Marital.Status                                          : chr  \"single\" \"divorced/separated/married\" \"single\" \"single\" ...\n",
      " $ Weights                                                 : num  1 1 1 1 1 1 1 1 1 1 ...\n"
     ]
    }
   ],
   "source": [
    "data %>% str()"
   ]
  },
  {
   "cell_type": "markdown",
   "metadata": {},
   "source": [
    "### Analisis de los datos"
   ]
  },
  {
   "cell_type": "code",
   "execution_count": 12,
   "metadata": {
    "vscode": {
     "languageId": "r"
    }
   },
   "outputs": [
    {
     "data": {
      "text/html": [
       "<table class=\"dataframe\">\n",
       "<caption>A data.frame: 6 x 23</caption>\n",
       "<thead>\n",
       "\t<tr><th></th><th scope=col>Class</th><th scope=col>Status.of.existing.checking.account</th><th scope=col>Duration.in.month</th><th scope=col>Credit.history</th><th scope=col>Purpose</th><th scope=col>Credit.amount</th><th scope=col>Savings.account.bonds</th><th scope=col>Present.employment.since</th><th scope=col>Installment.rate.in.percentage.of.disposable.income</th><th scope=col>Other.debtors...guarantors</th><th scope=col>...</th><th scope=col>Other.installment.plans</th><th scope=col>Housing</th><th scope=col>Number.of.existing.credits.at.this.bank</th><th scope=col>Job</th><th scope=col>Number.of.people.being.liable.to.provide.maintenance.for</th><th scope=col>Telephone</th><th scope=col>Foreign.worker</th><th scope=col>Gender</th><th scope=col>Marital.Status</th><th scope=col>Weights</th></tr>\n",
       "\t<tr><th></th><th scope=col>&lt;int&gt;</th><th scope=col>&lt;chr&gt;</th><th scope=col>&lt;int&gt;</th><th scope=col>&lt;chr&gt;</th><th scope=col>&lt;chr&gt;</th><th scope=col>&lt;int&gt;</th><th scope=col>&lt;chr&gt;</th><th scope=col>&lt;chr&gt;</th><th scope=col>&lt;int&gt;</th><th scope=col>&lt;chr&gt;</th><th scope=col>...</th><th scope=col>&lt;chr&gt;</th><th scope=col>&lt;chr&gt;</th><th scope=col>&lt;int&gt;</th><th scope=col>&lt;chr&gt;</th><th scope=col>&lt;int&gt;</th><th scope=col>&lt;chr&gt;</th><th scope=col>&lt;chr&gt;</th><th scope=col>&lt;chr&gt;</th><th scope=col>&lt;chr&gt;</th><th scope=col>&lt;dbl&gt;</th></tr>\n",
       "</thead>\n",
       "<tbody>\n",
       "\t<tr><th scope=row>1</th><td>1</td><td><span style=white-space:pre-wrap>&lt; 0 DM             </span></td><td> 6</td><td><span style=white-space:pre-wrap>critical account     </span></td><td><span style=white-space:pre-wrap>radio/television   </span></td><td>1169</td><td>unknown/no savings</td><td>&gt;= 7 years </td><td>4</td><td><span style=white-space:pre-wrap>none     </span></td><td>...</td><td>none</td><td><span style=white-space:pre-wrap>own     </span></td><td>2</td><td><span style=white-space:pre-wrap>skilled employee  </span></td><td>1</td><td>yes, registered</td><td>yes</td><td><span style=white-space:pre-wrap>male  </span></td><td><span style=white-space:pre-wrap>single                    </span></td><td>1</td></tr>\n",
       "\t<tr><th scope=row>2</th><td>2</td><td><span style=white-space:pre-wrap>0 - 200 DM         </span></td><td>48</td><td>existing credits paid</td><td><span style=white-space:pre-wrap>radio/television   </span></td><td>5951</td><td><span style=white-space:pre-wrap>&lt; 100 DM          </span></td><td>1 - 4 years</td><td>2</td><td><span style=white-space:pre-wrap>none     </span></td><td>...</td><td>none</td><td><span style=white-space:pre-wrap>own     </span></td><td>1</td><td><span style=white-space:pre-wrap>skilled employee  </span></td><td>1</td><td><span style=white-space:pre-wrap>none           </span></td><td>yes</td><td>female</td><td>divorced/separated/married</td><td>1</td></tr>\n",
       "\t<tr><th scope=row>3</th><td>1</td><td>no checking account</td><td>12</td><td><span style=white-space:pre-wrap>critical account     </span></td><td><span style=white-space:pre-wrap>education          </span></td><td>2096</td><td><span style=white-space:pre-wrap>&lt; 100 DM          </span></td><td>4 - 7 years</td><td>2</td><td><span style=white-space:pre-wrap>none     </span></td><td>...</td><td>none</td><td><span style=white-space:pre-wrap>own     </span></td><td>1</td><td>unskilled resident</td><td>2</td><td><span style=white-space:pre-wrap>none           </span></td><td>yes</td><td><span style=white-space:pre-wrap>male  </span></td><td><span style=white-space:pre-wrap>single                    </span></td><td>1</td></tr>\n",
       "\t<tr><th scope=row>4</th><td>1</td><td><span style=white-space:pre-wrap>&lt; 0 DM             </span></td><td>42</td><td>existing credits paid</td><td>furniture/equipment</td><td>7882</td><td><span style=white-space:pre-wrap>&lt; 100 DM          </span></td><td>4 - 7 years</td><td>2</td><td>guarantor</td><td>...</td><td>none</td><td>for free</td><td>1</td><td><span style=white-space:pre-wrap>skilled employee  </span></td><td>2</td><td><span style=white-space:pre-wrap>none           </span></td><td>yes</td><td><span style=white-space:pre-wrap>male  </span></td><td><span style=white-space:pre-wrap>single                    </span></td><td>1</td></tr>\n",
       "\t<tr><th scope=row>5</th><td>2</td><td><span style=white-space:pre-wrap>&lt; 0 DM             </span></td><td>24</td><td><span style=white-space:pre-wrap>delay in paying      </span></td><td><span style=white-space:pre-wrap>car (new)          </span></td><td>4870</td><td><span style=white-space:pre-wrap>&lt; 100 DM          </span></td><td>1 - 4 years</td><td>3</td><td><span style=white-space:pre-wrap>none     </span></td><td>...</td><td>none</td><td>for free</td><td>2</td><td><span style=white-space:pre-wrap>skilled employee  </span></td><td>2</td><td><span style=white-space:pre-wrap>none           </span></td><td>yes</td><td><span style=white-space:pre-wrap>male  </span></td><td><span style=white-space:pre-wrap>single                    </span></td><td>1</td></tr>\n",
       "\t<tr><th scope=row>6</th><td>1</td><td>no checking account</td><td>36</td><td>existing credits paid</td><td>education          </td><td>9055</td><td>unknown/no savings</td><td>1 - 4 years</td><td>2</td><td>none     </td><td>...</td><td>none</td><td>for free</td><td>1</td><td>unskilled resident</td><td>2</td><td>yes, registered</td><td>yes</td><td>male  </td><td>single                    </td><td>1</td></tr>\n",
       "</tbody>\n",
       "</table>\n"
      ],
      "text/latex": [
       "A data.frame: 6 x 23\n",
       "\\begin{tabular}{r|lllllllllllllllllllll}\n",
       "  & Class & Status.of.existing.checking.account & Duration.in.month & Credit.history & Purpose & Credit.amount & Savings.account.bonds & Present.employment.since & Installment.rate.in.percentage.of.disposable.income & Other.debtors...guarantors & ... & Other.installment.plans & Housing & Number.of.existing.credits.at.this.bank & Job & Number.of.people.being.liable.to.provide.maintenance.for & Telephone & Foreign.worker & Gender & Marital.Status & Weights\\\\\n",
       "  & <int> & <chr> & <int> & <chr> & <chr> & <int> & <chr> & <chr> & <int> & <chr> & ... & <chr> & <chr> & <int> & <chr> & <int> & <chr> & <chr> & <chr> & <chr> & <dbl>\\\\\n",
       "\\hline\n",
       "\t1 & 1 & < 0 DM              &  6 & critical account      & radio/television    & 1169 & unknown/no savings & >= 7 years  & 4 & none      & ... & none & own      & 2 & skilled employee   & 1 & yes, registered & yes & male   & single                     & 1\\\\\n",
       "\t2 & 2 & 0 - 200 DM          & 48 & existing credits paid & radio/television    & 5951 & < 100 DM           & 1 - 4 years & 2 & none      & ... & none & own      & 1 & skilled employee   & 1 & none            & yes & female & divorced/separated/married & 1\\\\\n",
       "\t3 & 1 & no checking account & 12 & critical account      & education           & 2096 & < 100 DM           & 4 - 7 years & 2 & none      & ... & none & own      & 1 & unskilled resident & 2 & none            & yes & male   & single                     & 1\\\\\n",
       "\t4 & 1 & < 0 DM              & 42 & existing credits paid & furniture/equipment & 7882 & < 100 DM           & 4 - 7 years & 2 & guarantor & ... & none & for free & 1 & skilled employee   & 2 & none            & yes & male   & single                     & 1\\\\\n",
       "\t5 & 2 & < 0 DM              & 24 & delay in paying       & car (new)           & 4870 & < 100 DM           & 1 - 4 years & 3 & none      & ... & none & for free & 2 & skilled employee   & 2 & none            & yes & male   & single                     & 1\\\\\n",
       "\t6 & 1 & no checking account & 36 & existing credits paid & education           & 9055 & unknown/no savings & 1 - 4 years & 2 & none      & ... & none & for free & 1 & unskilled resident & 2 & yes, registered & yes & male   & single                     & 1\\\\\n",
       "\\end{tabular}\n"
      ],
      "text/markdown": [
       "\n",
       "A data.frame: 6 x 23\n",
       "\n",
       "| <!--/--> | Class &lt;int&gt; | Status.of.existing.checking.account &lt;chr&gt; | Duration.in.month &lt;int&gt; | Credit.history &lt;chr&gt; | Purpose &lt;chr&gt; | Credit.amount &lt;int&gt; | Savings.account.bonds &lt;chr&gt; | Present.employment.since &lt;chr&gt; | Installment.rate.in.percentage.of.disposable.income &lt;int&gt; | Other.debtors...guarantors &lt;chr&gt; | ... ... | Other.installment.plans &lt;chr&gt; | Housing &lt;chr&gt; | Number.of.existing.credits.at.this.bank &lt;int&gt; | Job &lt;chr&gt; | Number.of.people.being.liable.to.provide.maintenance.for &lt;int&gt; | Telephone &lt;chr&gt; | Foreign.worker &lt;chr&gt; | Gender &lt;chr&gt; | Marital.Status &lt;chr&gt; | Weights &lt;dbl&gt; |\n",
       "|---|---|---|---|---|---|---|---|---|---|---|---|---|---|---|---|---|---|---|---|---|---|\n",
       "| 1 | 1 | &lt; 0 DM              |  6 | critical account      | radio/television    | 1169 | unknown/no savings | &gt;= 7 years  | 4 | none      | ... | none | own      | 2 | skilled employee   | 1 | yes, registered | yes | male   | single                     | 1 |\n",
       "| 2 | 2 | 0 - 200 DM          | 48 | existing credits paid | radio/television    | 5951 | &lt; 100 DM           | 1 - 4 years | 2 | none      | ... | none | own      | 1 | skilled employee   | 1 | none            | yes | female | divorced/separated/married | 1 |\n",
       "| 3 | 1 | no checking account | 12 | critical account      | education           | 2096 | &lt; 100 DM           | 4 - 7 years | 2 | none      | ... | none | own      | 1 | unskilled resident | 2 | none            | yes | male   | single                     | 1 |\n",
       "| 4 | 1 | &lt; 0 DM              | 42 | existing credits paid | furniture/equipment | 7882 | &lt; 100 DM           | 4 - 7 years | 2 | guarantor | ... | none | for free | 1 | skilled employee   | 2 | none            | yes | male   | single                     | 1 |\n",
       "| 5 | 2 | &lt; 0 DM              | 24 | delay in paying       | car (new)           | 4870 | &lt; 100 DM           | 1 - 4 years | 3 | none      | ... | none | for free | 2 | skilled employee   | 2 | none            | yes | male   | single                     | 1 |\n",
       "| 6 | 1 | no checking account | 36 | existing credits paid | education           | 9055 | unknown/no savings | 1 - 4 years | 2 | none      | ... | none | for free | 1 | unskilled resident | 2 | yes, registered | yes | male   | single                     | 1 |\n",
       "\n"
      ],
      "text/plain": [
       "  Class Status.of.existing.checking.account Duration.in.month\n",
       "1 1     < 0 DM                               6               \n",
       "2 2     0 - 200 DM                          48               \n",
       "3 1     no checking account                 12               \n",
       "4 1     < 0 DM                              42               \n",
       "5 2     < 0 DM                              24               \n",
       "6 1     no checking account                 36               \n",
       "  Credit.history        Purpose             Credit.amount Savings.account.bonds\n",
       "1 critical account      radio/television    1169          unknown/no savings   \n",
       "2 existing credits paid radio/television    5951          < 100 DM             \n",
       "3 critical account      education           2096          < 100 DM             \n",
       "4 existing credits paid furniture/equipment 7882          < 100 DM             \n",
       "5 delay in paying       car (new)           4870          < 100 DM             \n",
       "6 existing credits paid education           9055          unknown/no savings   \n",
       "  Present.employment.since Installment.rate.in.percentage.of.disposable.income\n",
       "1 >= 7 years               4                                                  \n",
       "2 1 - 4 years              2                                                  \n",
       "3 4 - 7 years              2                                                  \n",
       "4 4 - 7 years              2                                                  \n",
       "5 1 - 4 years              3                                                  \n",
       "6 1 - 4 years              2                                                  \n",
       "  Other.debtors...guarantors ... Other.installment.plans Housing \n",
       "1 none                       ... none                    own     \n",
       "2 none                       ... none                    own     \n",
       "3 none                       ... none                    own     \n",
       "4 guarantor                  ... none                    for free\n",
       "5 none                       ... none                    for free\n",
       "6 none                       ... none                    for free\n",
       "  Number.of.existing.credits.at.this.bank Job               \n",
       "1 2                                       skilled employee  \n",
       "2 1                                       skilled employee  \n",
       "3 1                                       unskilled resident\n",
       "4 1                                       skilled employee  \n",
       "5 2                                       skilled employee  \n",
       "6 1                                       unskilled resident\n",
       "  Number.of.people.being.liable.to.provide.maintenance.for Telephone      \n",
       "1 1                                                        yes, registered\n",
       "2 1                                                        none           \n",
       "3 2                                                        none           \n",
       "4 2                                                        none           \n",
       "5 2                                                        none           \n",
       "6 2                                                        yes, registered\n",
       "  Foreign.worker Gender Marital.Status             Weights\n",
       "1 yes            male   single                     1      \n",
       "2 yes            female divorced/separated/married 1      \n",
       "3 yes            male   single                     1      \n",
       "4 yes            male   single                     1      \n",
       "5 yes            male   single                     1      \n",
       "6 yes            male   single                     1      "
      ]
     },
     "metadata": {},
     "output_type": "display_data"
    }
   ],
   "source": [
    "data %>% head()"
   ]
  },
  {
   "cell_type": "markdown",
   "metadata": {},
   "source": [
    "#### Consulta de valores nulos"
   ]
  },
  {
   "cell_type": "code",
   "execution_count": 13,
   "metadata": {
    "vscode": {
     "languageId": "r"
    }
   },
   "outputs": [
    {
     "data": {
      "text/html": [
       "<table class=\"dataframe\">\n",
       "<caption>A data.frame: 23 x 1</caption>\n",
       "<thead>\n",
       "\t<tr><th></th><th scope=col>NA_count</th></tr>\n",
       "\t<tr><th></th><th scope=col>&lt;dbl&gt;</th></tr>\n",
       "</thead>\n",
       "<tbody>\n",
       "\t<tr><th scope=row>Class</th><td>0</td></tr>\n",
       "\t<tr><th scope=row>Status.of.existing.checking.account</th><td>0</td></tr>\n",
       "\t<tr><th scope=row>Duration.in.month</th><td>0</td></tr>\n",
       "\t<tr><th scope=row>Credit.history</th><td>0</td></tr>\n",
       "\t<tr><th scope=row>Purpose</th><td>0</td></tr>\n",
       "\t<tr><th scope=row>Credit.amount</th><td>0</td></tr>\n",
       "\t<tr><th scope=row>Savings.account.bonds</th><td>0</td></tr>\n",
       "\t<tr><th scope=row>Present.employment.since</th><td>0</td></tr>\n",
       "\t<tr><th scope=row>Installment.rate.in.percentage.of.disposable.income</th><td>0</td></tr>\n",
       "\t<tr><th scope=row>Other.debtors...guarantors</th><td>0</td></tr>\n",
       "\t<tr><th scope=row>Present.residence.since</th><td>0</td></tr>\n",
       "\t<tr><th scope=row>Property</th><td>0</td></tr>\n",
       "\t<tr><th scope=row>Age.in.years</th><td>0</td></tr>\n",
       "\t<tr><th scope=row>Other.installment.plans</th><td>0</td></tr>\n",
       "\t<tr><th scope=row>Housing</th><td>0</td></tr>\n",
       "\t<tr><th scope=row>Number.of.existing.credits.at.this.bank</th><td>0</td></tr>\n",
       "\t<tr><th scope=row>Job</th><td>0</td></tr>\n",
       "\t<tr><th scope=row>Number.of.people.being.liable.to.provide.maintenance.for</th><td>0</td></tr>\n",
       "\t<tr><th scope=row>Telephone</th><td>0</td></tr>\n",
       "\t<tr><th scope=row>Foreign.worker</th><td>0</td></tr>\n",
       "\t<tr><th scope=row>Gender</th><td>0</td></tr>\n",
       "\t<tr><th scope=row>Marital.Status</th><td>0</td></tr>\n",
       "\t<tr><th scope=row>Weights</th><td>0</td></tr>\n",
       "</tbody>\n",
       "</table>\n"
      ],
      "text/latex": [
       "A data.frame: 23 x 1\n",
       "\\begin{tabular}{r|l}\n",
       "  & NA\\_count\\\\\n",
       "  & <dbl>\\\\\n",
       "\\hline\n",
       "\tClass & 0\\\\\n",
       "\tStatus.of.existing.checking.account & 0\\\\\n",
       "\tDuration.in.month & 0\\\\\n",
       "\tCredit.history & 0\\\\\n",
       "\tPurpose & 0\\\\\n",
       "\tCredit.amount & 0\\\\\n",
       "\tSavings.account.bonds & 0\\\\\n",
       "\tPresent.employment.since & 0\\\\\n",
       "\tInstallment.rate.in.percentage.of.disposable.income & 0\\\\\n",
       "\tOther.debtors...guarantors & 0\\\\\n",
       "\tPresent.residence.since & 0\\\\\n",
       "\tProperty & 0\\\\\n",
       "\tAge.in.years & 0\\\\\n",
       "\tOther.installment.plans & 0\\\\\n",
       "\tHousing & 0\\\\\n",
       "\tNumber.of.existing.credits.at.this.bank & 0\\\\\n",
       "\tJob & 0\\\\\n",
       "\tNumber.of.people.being.liable.to.provide.maintenance.for & 0\\\\\n",
       "\tTelephone & 0\\\\\n",
       "\tForeign.worker & 0\\\\\n",
       "\tGender & 0\\\\\n",
       "\tMarital.Status & 0\\\\\n",
       "\tWeights & 0\\\\\n",
       "\\end{tabular}\n"
      ],
      "text/markdown": [
       "\n",
       "A data.frame: 23 x 1\n",
       "\n",
       "| <!--/--> | NA_count &lt;dbl&gt; |\n",
       "|---|---|\n",
       "| Class | 0 |\n",
       "| Status.of.existing.checking.account | 0 |\n",
       "| Duration.in.month | 0 |\n",
       "| Credit.history | 0 |\n",
       "| Purpose | 0 |\n",
       "| Credit.amount | 0 |\n",
       "| Savings.account.bonds | 0 |\n",
       "| Present.employment.since | 0 |\n",
       "| Installment.rate.in.percentage.of.disposable.income | 0 |\n",
       "| Other.debtors...guarantors | 0 |\n",
       "| Present.residence.since | 0 |\n",
       "| Property | 0 |\n",
       "| Age.in.years | 0 |\n",
       "| Other.installment.plans | 0 |\n",
       "| Housing | 0 |\n",
       "| Number.of.existing.credits.at.this.bank | 0 |\n",
       "| Job | 0 |\n",
       "| Number.of.people.being.liable.to.provide.maintenance.for | 0 |\n",
       "| Telephone | 0 |\n",
       "| Foreign.worker | 0 |\n",
       "| Gender | 0 |\n",
       "| Marital.Status | 0 |\n",
       "| Weights | 0 |\n",
       "\n"
      ],
      "text/plain": [
       "                                                         NA_count\n",
       "Class                                                    0       \n",
       "Status.of.existing.checking.account                      0       \n",
       "Duration.in.month                                        0       \n",
       "Credit.history                                           0       \n",
       "Purpose                                                  0       \n",
       "Credit.amount                                            0       \n",
       "Savings.account.bonds                                    0       \n",
       "Present.employment.since                                 0       \n",
       "Installment.rate.in.percentage.of.disposable.income      0       \n",
       "Other.debtors...guarantors                               0       \n",
       "Present.residence.since                                  0       \n",
       "Property                                                 0       \n",
       "Age.in.years                                             0       \n",
       "Other.installment.plans                                  0       \n",
       "Housing                                                  0       \n",
       "Number.of.existing.credits.at.this.bank                  0       \n",
       "Job                                                      0       \n",
       "Number.of.people.being.liable.to.provide.maintenance.for 0       \n",
       "Telephone                                                0       \n",
       "Foreign.worker                                           0       \n",
       "Gender                                                   0       \n",
       "Marital.Status                                           0       \n",
       "Weights                                                  0       "
      ]
     },
     "metadata": {},
     "output_type": "display_data"
    }
   ],
   "source": [
    "col_na_summary(data)"
   ]
  },
  {
   "cell_type": "markdown",
   "metadata": {},
   "source": [
    "#### Label encoding\n",
    "\n",
    "Label encoder porque con one hot encoder se generan muchas columnas y el resultado empieza a ser peor"
   ]
  },
  {
   "cell_type": "code",
   "execution_count": 14,
   "metadata": {
    "vscode": {
     "languageId": "r"
    }
   },
   "outputs": [
    {
     "name": "stdout",
     "output_type": "stream",
     "text": [
      "Equivalencias para la columna 'Status.of.existing.checking.account':\n",
      "       valor_original valor_codificado\n",
      "1          0 - 200 DM                1\n",
      "2              < 0 DM                2\n",
      "3           >= 200 DM                3\n",
      "4 no checking account                4\n",
      "\n",
      "Equivalencias para la columna 'Credit.history':\n",
      "         valor_original valor_codificado\n",
      "1      all credits paid                1\n",
      "2      critical account                2\n",
      "3       delay in paying                3\n",
      "4 existing credits paid                4\n",
      "5   no credits/all paid                5\n",
      "\n",
      "Equivalencias para la columna 'Purpose':\n",
      "        valor_original valor_codificado\n",
      "1             business                1\n",
      "2            car (new)                2\n",
      "3           car (used)                3\n",
      "4  domestic appliances                4\n",
      "5            education                5\n",
      "6  furniture/equipment                6\n",
      "7               others                7\n",
      "8     radio/television                8\n",
      "9              repairs                9\n",
      "10          retraining               10\n",
      "\n",
      "Equivalencias para la columna 'Savings.account.bonds':\n",
      "      valor_original valor_codificado\n",
      "1       100 - 500 DM                1\n",
      "2      500 - 1000 DM                2\n",
      "3           < 100 DM                3\n",
      "4         >= 1000 DM                4\n",
      "5 unknown/no savings                5\n",
      "\n",
      "Equivalencias para la columna 'Present.employment.since':\n",
      "  valor_original valor_codificado\n",
      "1    1 - 4 years                1\n",
      "2    4 - 7 years                2\n",
      "3       < 1 year                3\n",
      "4     >= 7 years                4\n",
      "5     unemployed                5\n",
      "\n",
      "Equivalencias para la columna 'Other.debtors...guarantors':\n",
      "  valor_original valor_codificado\n",
      "1   co-applicant                1\n",
      "2      guarantor                2\n",
      "3           none                3\n",
      "\n",
      "Equivalencias para la columna 'Property':\n",
      "            valor_original valor_codificado\n",
      "1 building society savings                1\n",
      "2             car or other                2\n",
      "3              real estate                3\n",
      "4      unknown/no property                4\n",
      "\n",
      "Equivalencias para la columna 'Other.installment.plans':\n",
      "  valor_original valor_codificado\n",
      "1           bank                1\n",
      "2           none                2\n",
      "3         stores                3\n",
      "\n",
      "Equivalencias para la columna 'Housing':\n",
      "  valor_original valor_codificado\n",
      "1       for free                1\n",
      "2            own                2\n",
      "3           rent                3\n",
      "\n",
      "Equivalencias para la columna 'Job':\n",
      "            valor_original valor_codificado\n",
      "1 management/self-employed                1\n",
      "2         skilled employee                2\n",
      "3  unemployed/non-resident                3\n",
      "4       unskilled resident                4\n",
      "\n",
      "Equivalencias para la columna 'Telephone':\n",
      "   valor_original valor_codificado\n",
      "1            none                1\n",
      "2 yes, registered                2\n",
      "\n",
      "Equivalencias para la columna 'Foreign.worker':\n",
      "  valor_original valor_codificado\n",
      "1             no                1\n",
      "2            yes                2\n",
      "\n",
      "Equivalencias para la columna 'Gender':\n",
      "  valor_original valor_codificado\n",
      "1         female                1\n",
      "2           male                2\n",
      "\n",
      "Equivalencias para la columna 'Marital.Status':\n",
      "              valor_original valor_codificado\n",
      "1         divorced/separated                1\n",
      "2 divorced/separated/married                2\n",
      "3            married/widowed                3\n",
      "4                     single                4\n",
      "\n"
     ]
    }
   ],
   "source": [
    "data <- label_encoder(data)"
   ]
  },
  {
   "cell_type": "markdown",
   "metadata": {},
   "source": [
    "#### Modificación del formato"
   ]
  },
  {
   "cell_type": "code",
   "execution_count": 15,
   "metadata": {
    "vscode": {
     "languageId": "r"
    }
   },
   "outputs": [],
   "source": [
    "data <- format_adapter(data)"
   ]
  },
  {
   "cell_type": "markdown",
   "metadata": {},
   "source": [
    "## Reglas de asociación"
   ]
  },
  {
   "cell_type": "code",
   "execution_count": 16,
   "metadata": {
    "vscode": {
     "languageId": "r"
    }
   },
   "outputs": [],
   "source": [
    "write.csv(data, \"../data/Statlog_XGB.csv\", row.names = FALSE)"
   ]
  }
 ],
 "metadata": {
  "kernelspec": {
   "display_name": "R",
   "language": "R",
   "name": "ir"
  },
  "language_info": {
   "codemirror_mode": "r",
   "file_extension": ".r",
   "mimetype": "text/x-r-source",
   "name": "R",
   "pygments_lexer": "r",
   "version": "4.3.1"
  }
 },
 "nbformat": 4,
 "nbformat_minor": 2
}
