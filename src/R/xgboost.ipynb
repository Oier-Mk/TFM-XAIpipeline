{
 "cells": [
  {
   "cell_type": "markdown",
   "metadata": {},
   "source": [
    "# Detección de clases con aprendizaje supervisado reproducible"
   ]
  },
  {
   "cell_type": "markdown",
   "metadata": {},
   "source": [
    "## Oier Mentxaka\n",
    "https://cran.r-project.org/web/packages/xgboost/xgboost.pdf"
   ]
  },
  {
   "cell_type": "markdown",
   "metadata": {},
   "source": [
    "### Carga de librerías\n"
   ]
  },
  {
   "cell_type": "code",
   "execution_count": 31,
   "metadata": {
    "vscode": {
     "languageId": "r"
    }
   },
   "outputs": [],
   "source": [
    "library(tidyverse)\n",
    "library(caret)\n",
    "library(xgboost)\n",
    "source(\"Modelos/xgboost.R\")\n",
    "source(\"Preprocesamiento/utils.R\")\n",
    "source(\"Preprocesamiento/plots.R\")"
   ]
  },
  {
   "cell_type": "markdown",
   "metadata": {},
   "source": [
    "#### Asignación de la semilla"
   ]
  },
  {
   "cell_type": "code",
   "execution_count": 32,
   "metadata": {
    "vscode": {
     "languageId": "r"
    }
   },
   "outputs": [],
   "source": [
    "set.seed(123)"
   ]
  },
  {
   "cell_type": "markdown",
   "metadata": {},
   "source": [
    "#### Lectura de fichero ya filtrado"
   ]
  },
  {
   "cell_type": "code",
   "execution_count": 33,
   "metadata": {
    "vscode": {
     "languageId": "r"
    }
   },
   "outputs": [],
   "source": [
    "data <- read.csv(\"../data/Statlog_XGB.csv\", header = TRUE, sep = \",\")"
   ]
  },
  {
   "cell_type": "markdown",
   "metadata": {},
   "source": [
    "#### Separación de train y test y pesos"
   ]
  },
  {
   "cell_type": "code",
   "execution_count": 34,
   "metadata": {
    "vscode": {
     "languageId": "r"
    }
   },
   "outputs": [],
   "source": [
    "# Prepare the data for XGBoost\n",
    "index <- createDataPartition(data$Class, p = 0.7, list = FALSE)\n",
    "\n",
    "# Split the data\n",
    "train <- data[index, ]\n",
    "test <- data[-index, ]\n",
    "\n",
    "### -1 porque el clasificador ha de empezar en 0 y en este dataset empieza en 1\n",
    "y_train <- as.numeric(train$Class)-1\n",
    "w_train <- as.numeric(train$Weights)\n",
    "X_train <- as.matrix(train[, -which(names(train) %in% c(\"Class\", \"Weights\"))])\n",
    "\n",
    "y_test <- as.numeric(test$Class)-1\n",
    "w_test <- as.numeric(test$Weights)\n",
    "X_test <- as.matrix(test[, -which(names(test) %in% c(\"Class\", \"Weights\"))])"
   ]
  },
  {
   "cell_type": "markdown",
   "metadata": {},
   "source": [
    "#### Selección de variables \n",
    "\n",
    "Seleccionadas tras realizar un estudio con grid search"
   ]
  },
  {
   "cell_type": "code",
   "execution_count": 35,
   "metadata": {
    "vscode": {
     "languageId": "r"
    }
   },
   "outputs": [],
   "source": [
    "nrounds <- 10\n",
    "objective <- \"multi:softmax\""
   ]
  },
  {
   "cell_type": "markdown",
   "metadata": {},
   "source": [
    "#### Creación del modelo"
   ]
  },
  {
   "cell_type": "code",
   "execution_count": 36,
   "metadata": {
    "vscode": {
     "languageId": "r"
    }
   },
   "outputs": [
    {
     "name": "stdout",
     "output_type": "stream",
     "text": [
      "[1]\ttrain-mlogloss:0.568521 \n",
      "[2]\ttrain-mlogloss:0.495009 \n",
      "[3]\ttrain-mlogloss:0.438243 \n",
      "[4]\ttrain-mlogloss:0.399922 \n",
      "[5]\ttrain-mlogloss:0.370609 \n",
      "[6]\ttrain-mlogloss:0.337860 \n",
      "[7]\ttrain-mlogloss:0.316878 \n",
      "[8]\ttrain-mlogloss:0.297514 \n",
      "[9]\ttrain-mlogloss:0.269104 \n",
      "[10]\ttrain-mlogloss:0.254051 \n"
     ]
    }
   ],
   "source": [
    "xgb_model <- xgboost(data = X_train, label = y_train, nrounds = nrounds, objective = objective, num_class = 2, weight = w_train)"
   ]
  },
  {
   "cell_type": "markdown",
   "metadata": {},
   "source": [
    "#### Obtención de predicciones"
   ]
  },
  {
   "cell_type": "code",
   "execution_count": 37,
   "metadata": {
    "vscode": {
     "languageId": "r"
    }
   },
   "outputs": [],
   "source": [
    "predictions <- predict(xgb_model, newdata = X_test, weights = w_test)"
   ]
  },
  {
   "cell_type": "markdown",
   "metadata": {},
   "source": [
    "#### Matriz de confusión"
   ]
  },
  {
   "cell_type": "code",
   "execution_count": 38,
   "metadata": {
    "vscode": {
     "languageId": "r"
    }
   },
   "outputs": [
    {
     "name": "stdout",
     "output_type": "stream",
     "text": [
      "[1] \"Confusion Matrix:\"\n",
      "           y_test\n",
      "predictions   0   1\n",
      "          0 184  50\n",
      "          1  20  46\n"
     ]
    }
   ],
   "source": [
    "confusion_matrix <- confusion_matrix(predictions, y_test)"
   ]
  },
  {
   "cell_type": "markdown",
   "metadata": {},
   "source": [
    "#### Precisión del modelo"
   ]
  },
  {
   "cell_type": "code",
   "execution_count": 39,
   "metadata": {
    "vscode": {
     "languageId": "r"
    }
   },
   "outputs": [
    {
     "name": "stdout",
     "output_type": "stream",
     "text": [
      "[1] \"Accuracy: 0.77\"\n"
     ]
    }
   ],
   "source": [
    "# Calculate accuracy\n",
    "accuracy <- sum(diag(confusion_matrix)) / sum(confusion_matrix)\n",
    "print(paste(\"Accuracy:\", round(accuracy, 2)))"
   ]
  },
  {
   "cell_type": "code",
   "execution_count": null,
   "metadata": {
    "vscode": {
     "languageId": "r"
    }
   },
   "outputs": [],
   "source": [
    "# Definir las opciones de la búsqueda de cuadrícula\n",
    "objective_functions <- c(\"binary:logistic\", \"binary:logitraw\", \"binary:hinge\") # \"multi:softmax\", \"multi:softprob\", \"reg:linear\", \"reg:squarederror\", \"reg:gamma\" Ejemplo de diferentes funciones objetivas\n",
    "nrounds_values <- seq(10, 50, 10)  # Ejemplo de diferentes números de rondas de refuerzo\n",
    "\n",
    "# Realizar la búsqueda de cuadrícula\n",
    "best_params <- grid_search(X_train, y_train, X_test, y_test, objective_functions, nrounds_values)\n",
    "print(paste(\"Best params:\", best_params))"
   ]
  }
 ],
 "metadata": {
  "kernelspec": {
   "display_name": "R",
   "language": "R",
   "name": "ir"
  },
  "language_info": {
   "codemirror_mode": "r",
   "file_extension": ".r",
   "mimetype": "text/x-r-source",
   "name": "R",
   "pygments_lexer": "r",
   "version": "4.3.1"
  }
 },
 "nbformat": 4,
 "nbformat_minor": 2
}
