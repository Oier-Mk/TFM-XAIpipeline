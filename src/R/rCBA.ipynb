{
 "cells": [
  {
   "cell_type": "markdown",
   "metadata": {},
   "source": [
    "# Detección de clases con aprendizaje supervisado reproducible"
   ]
  },
  {
   "cell_type": "markdown",
   "metadata": {},
   "source": [
    "## Oier Mentxaka\n",
    "https://cran.r-project.org/web/packages/arulesCBA/arulesCBA.pdf"
   ]
  },
  {
   "cell_type": "markdown",
   "metadata": {},
   "source": [
    "### Carga de librerías\n"
   ]
  },
  {
   "cell_type": "code",
   "execution_count": 283,
   "metadata": {
    "vscode": {
     "languageId": "r"
    }
   },
   "outputs": [],
   "source": [
    "library(tidyverse)\n",
    "library(caret)\n",
    "library(arulesCBA)\n",
    "source(\"Modelos/rCBA.R\")\n",
    "source(\"Preprocesamiento/utils.R\")\n",
    "source(\"Preprocesamiento/plots.R\")"
   ]
  },
  {
   "cell_type": "markdown",
   "metadata": {},
   "source": [
    "#### Asignación de la semilla"
   ]
  },
  {
   "cell_type": "code",
   "execution_count": 284,
   "metadata": {
    "vscode": {
     "languageId": "r"
    }
   },
   "outputs": [],
   "source": [
    "set.seed(123)"
   ]
  },
  {
   "cell_type": "markdown",
   "metadata": {},
   "source": [
    "#### Lectura de fichero ya filtrado"
   ]
  },
  {
   "cell_type": "code",
   "execution_count": 285,
   "metadata": {
    "vscode": {
     "languageId": "r"
    }
   },
   "outputs": [],
   "source": [
    "data <- read.csv(\"../data/Statlog_rCBA.csv\", header = TRUE, sep = \",\")"
   ]
  },
  {
   "cell_type": "markdown",
   "metadata": {},
   "source": [
    "#### Factorización de las variables"
   ]
  },
  {
   "cell_type": "code",
   "execution_count": 286,
   "metadata": {
    "vscode": {
     "languageId": "r"
    }
   },
   "outputs": [],
   "source": [
    "data <- mutate_all(data, as.factor)"
   ]
  },
  {
   "cell_type": "markdown",
   "metadata": {},
   "source": [
    "#### Separación de train y test"
   ]
  },
  {
   "cell_type": "code",
   "execution_count": 287,
   "metadata": {
    "vscode": {
     "languageId": "r"
    }
   },
   "outputs": [],
   "source": [
    "index <- createDataPartition(data$Class, p = 0.7, list = FALSE)\n",
    "\n",
    "# Split the data\n",
    "train <- data[index, ]\n",
    "test <- data[-index, ]"
   ]
  },
  {
   "cell_type": "markdown",
   "metadata": {},
   "source": [
    "#### Eliminacion de variable a predecir de testing"
   ]
  },
  {
   "cell_type": "code",
   "execution_count": 288,
   "metadata": {
    "vscode": {
     "languageId": "r"
    }
   },
   "outputs": [],
   "source": [
    "y_test <- test$Class\n",
    "test$Class <- NULL"
   ]
  },
  {
   "cell_type": "markdown",
   "metadata": {},
   "source": [
    "#### Obtención de los Weighs"
   ]
  },
  {
   "cell_type": "code",
   "execution_count": 289,
   "metadata": {
    "vscode": {
     "languageId": "r"
    }
   },
   "outputs": [],
   "source": [
    "train_weights <- train$Weights\n",
    "train$Weights <- NULL\n",
    "test_weights <- test$Weights\n",
    "test$Weights <- NULL"
   ]
  },
  {
   "cell_type": "markdown",
   "metadata": {},
   "source": [
    "#### Grid search"
   ]
  },
  {
   "cell_type": "code",
   "execution_count": 290,
   "metadata": {
    "vscode": {
     "languageId": "r"
    }
   },
   "outputs": [],
   "source": [
    "# # Example values for the grid search\n",
    "# support_values <- seq(0.01, 0.1, by = 0.01)\n",
    "# confidence_values <- seq(0.01, 0.1, by = 0.01)\n",
    "\n",
    "# best <- grid_search(train, test, y_test, support_values, confidence_values,train_weights = train_weights, test_weights = test_weights)\n",
    "# print(best)"
   ]
  },
  {
   "cell_type": "markdown",
   "metadata": {},
   "source": [
    "#### Selección de variables \n",
    "\n",
    "Seleccionadas tras realizar un estudio con grid search"
   ]
  },
  {
   "cell_type": "code",
   "execution_count": 291,
   "metadata": {
    "vscode": {
     "languageId": "r"
    }
   },
   "outputs": [],
   "source": [
    "support <- 0.01\n",
    "confidence <- 0.01"
   ]
  },
  {
   "cell_type": "markdown",
   "metadata": {},
   "source": [
    "#### Creación del modelo"
   ]
  },
  {
   "cell_type": "code",
   "execution_count": 292,
   "metadata": {
    "vscode": {
     "languageId": "r"
    }
   },
   "outputs": [
    {
     "name": "stdout",
     "output_type": "stream",
     "text": [
      "Apriori\n",
      "\n",
      "Parameter specification:\n",
      " confidence minval smax arem  aval originalSupport maxtime support minlen\n",
      "       0.01    0.1    1 none FALSE           FALSE       5    0.01      1\n",
      " maxlen target  ext\n",
      "      5  rules TRUE\n",
      "\n",
      "Algorithmic control:\n",
      " filter tree heap memopt load sort verbose\n",
      "    0.1 TRUE TRUE  FALSE TRUE    2    TRUE\n",
      "\n",
      "Absolute minimum support count: 7 \n",
      "\n",
      "set item appearances ...[107 item(s)] done [0.00s].\n",
      "set transactions ...[107 item(s), 700 transaction(s)] done [0.00s].\n",
      "sorting and recoding items ... [107 item(s)] done [0.00s].\n",
      "creating transaction tree ... done [0.00s].\n",
      "checking subsets of size 1 2 3 4 5 done [0.36s].\n",
      "writing ... [327551 rule(s)] done [0.11s].\n",
      "creating S4 object  ... done [0.10s].\n"
     ]
    }
   ],
   "source": [
    "# Convert the training dataset into transactions\n",
    "trans <- as(train, \"transactions\")\n",
    "\n",
    "# Create rule base with CARs (Classification Association Rules)\n",
    "cars <- mineCARs(Class ~ ., trans, parameter = list(support = support, confidence = confidence))\n",
    "\n",
    "# Remove redundant rules\n",
    "cars <- cars[!is.redundant(cars)]\n",
    "\n",
    "# Sort the rules by confidence\n",
    "cars <- sort(cars, by = \"conf\")"
   ]
  },
  {
   "cell_type": "code",
   "execution_count": 293,
   "metadata": {
    "vscode": {
     "languageId": "r"
    }
   },
   "outputs": [
    {
     "data": {
      "text/plain": [
       "transactions in sparse format with\n",
       " 700 transactions (rows) and\n",
       " 107 items (columns)"
      ]
     },
     "metadata": {},
     "output_type": "display_data"
    }
   ],
   "source": [
    "trans"
   ]
  },
  {
   "cell_type": "code",
   "execution_count": 294,
   "metadata": {
    "vscode": {
     "languageId": "r"
    }
   },
   "outputs": [],
   "source": [
    "# Fit the model with weights and the rules\n",
    "classifier <- CBA_ruleset(Class ~ .,\n",
    "                           rules = cars,\n",
    "                           default = uncoveredMajorityClass(Class ~ . , trans, cars),\n",
    "                           method = \"majority\",\n",
    "                           weights = train_weights)"
   ]
  },
  {
   "cell_type": "markdown",
   "metadata": {},
   "source": [
    "#### Obtención de reglas y transformación"
   ]
  },
  {
   "cell_type": "code",
   "execution_count": 295,
   "metadata": {
    "vscode": {
     "languageId": "r"
    }
   },
   "outputs": [
    {
     "data": {
      "text/html": [
       "<table class=\"dataframe\">\n",
       "<caption>A data.frame: 6 x 27</caption>\n",
       "<thead>\n",
       "\t<tr><th></th><th scope=col>support</th><th scope=col>confidence</th><th scope=col>coverage</th><th scope=col>lift</th><th scope=col>count</th><th scope=col>Status.of.existing.checking.account</th><th scope=col>Duration.in.month</th><th scope=col>Credit.history</th><th scope=col>Purpose</th><th scope=col>Credit.amount</th><th scope=col>...</th><th scope=col>Other.installment.plans</th><th scope=col>Housing</th><th scope=col>Number.of.existing.credits.at.this.bank</th><th scope=col>Job</th><th scope=col>Number.of.people.being.liable.to.provide.maintenance.for</th><th scope=col>Telephone</th><th scope=col>Foreign.worker</th><th scope=col>Gender</th><th scope=col>Marital.Status</th><th scope=col>Class</th></tr>\n",
       "\t<tr><th></th><th scope=col>&lt;dbl&gt;</th><th scope=col>&lt;dbl&gt;</th><th scope=col>&lt;dbl&gt;</th><th scope=col>&lt;dbl&gt;</th><th scope=col>&lt;int&gt;</th><th scope=col>&lt;chr&gt;</th><th scope=col>&lt;chr&gt;</th><th scope=col>&lt;chr&gt;</th><th scope=col>&lt;chr&gt;</th><th scope=col>&lt;chr&gt;</th><th scope=col>...</th><th scope=col>&lt;chr&gt;</th><th scope=col>&lt;chr&gt;</th><th scope=col>&lt;chr&gt;</th><th scope=col>&lt;chr&gt;</th><th scope=col>&lt;lgl&gt;</th><th scope=col>&lt;chr&gt;</th><th scope=col>&lt;chr&gt;</th><th scope=col>&lt;chr&gt;</th><th scope=col>&lt;chr&gt;</th><th scope=col>&lt;chr&gt;</th></tr>\n",
       "</thead>\n",
       "<tbody>\n",
       "\t<tr><th scope=row>230</th><td>0.01000000</td><td>1</td><td>0.01000000</td><td>1.428571</td><td>7</td><td>NA                 </td><td>NA    </td><td>NA                 </td><td>retraining</td><td>NA</td><td>...</td><td>NA</td><td>own</td><td>NA   </td><td>NA</td><td>NA</td><td>NA             </td><td>NA</td><td>NA</td><td>NA</td><td>1</td></tr>\n",
       "\t<tr><th scope=row>356</th><td>0.01142857</td><td>1</td><td>0.01142857</td><td>3.333333</td><td>8</td><td>NA                 </td><td>NA    </td><td>no credits/all paid</td><td>NA        </td><td>NA</td><td>...</td><td>NA</td><td>NA </td><td>NA   </td><td>NA</td><td>NA</td><td>yes~ registered</td><td>NA</td><td>NA</td><td>NA</td><td>2</td></tr>\n",
       "\t<tr><th scope=row>480</th><td>0.01285714</td><td>1</td><td>0.01285714</td><td>1.428571</td><td>9</td><td>no checking account</td><td>NA    </td><td>NA                 </td><td>NA        </td><td>NA</td><td>...</td><td>NA</td><td>NA </td><td>(2~4]</td><td>NA</td><td>NA</td><td>NA             </td><td>NA</td><td>NA</td><td>NA</td><td>1</td></tr>\n",
       "\t<tr><th scope=row>504</th><td>0.01000000</td><td>1</td><td>0.01000000</td><td>1.428571</td><td>7</td><td>NA                 </td><td>(9~12]</td><td>NA                 </td><td>NA        </td><td>NA</td><td>...</td><td>NA</td><td>NA </td><td>NA   </td><td>NA</td><td>NA</td><td>NA             </td><td>NA</td><td>NA</td><td>NA</td><td>1</td></tr>\n",
       "\t<tr><th scope=row>555</th><td>0.01000000</td><td>1</td><td>0.01000000</td><td>1.428571</td><td>7</td><td>NA                 </td><td>(3~6] </td><td>NA                 </td><td>NA        </td><td>NA</td><td>...</td><td>NA</td><td>NA </td><td>NA   </td><td>NA</td><td>NA</td><td>NA             </td><td>no</td><td>NA</td><td>NA</td><td>1</td></tr>\n",
       "\t<tr><th scope=row>556</th><td>0.01142857</td><td>1</td><td>0.01142857</td><td>1.428571</td><td>8</td><td>NA                 </td><td>NA    </td><td>NA                 </td><td>NA        </td><td>NA</td><td>...</td><td>NA</td><td>NA </td><td>NA   </td><td>NA</td><td>NA</td><td>NA             </td><td>no</td><td>NA</td><td>NA</td><td>1</td></tr>\n",
       "</tbody>\n",
       "</table>\n"
      ],
      "text/latex": [
       "A data.frame: 6 x 27\n",
       "\\begin{tabular}{r|lllllllllllllllllllll}\n",
       "  & support & confidence & coverage & lift & count & Status.of.existing.checking.account & Duration.in.month & Credit.history & Purpose & Credit.amount & ... & Other.installment.plans & Housing & Number.of.existing.credits.at.this.bank & Job & Number.of.people.being.liable.to.provide.maintenance.for & Telephone & Foreign.worker & Gender & Marital.Status & Class\\\\\n",
       "  & <dbl> & <dbl> & <dbl> & <dbl> & <int> & <chr> & <chr> & <chr> & <chr> & <chr> & ... & <chr> & <chr> & <chr> & <chr> & <lgl> & <chr> & <chr> & <chr> & <chr> & <chr>\\\\\n",
       "\\hline\n",
       "\t230 & 0.01000000 & 1 & 0.01000000 & 1.428571 & 7 & NA                  & NA     & NA                  & retraining & NA & ... & NA & own & NA    & NA & NA & NA              & NA & NA & NA & 1\\\\\n",
       "\t356 & 0.01142857 & 1 & 0.01142857 & 3.333333 & 8 & NA                  & NA     & no credits/all paid & NA         & NA & ... & NA & NA  & NA    & NA & NA & yes\\textasciitilde{} registered & NA & NA & NA & 2\\\\\n",
       "\t480 & 0.01285714 & 1 & 0.01285714 & 1.428571 & 9 & no checking account & NA     & NA                  & NA         & NA & ... & NA & NA  & (2\\textasciitilde{}4{]} & NA & NA & NA              & NA & NA & NA & 1\\\\\n",
       "\t504 & 0.01000000 & 1 & 0.01000000 & 1.428571 & 7 & NA                  & (9\\textasciitilde{}12{]} & NA                  & NA         & NA & ... & NA & NA  & NA    & NA & NA & NA              & NA & NA & NA & 1\\\\\n",
       "\t555 & 0.01000000 & 1 & 0.01000000 & 1.428571 & 7 & NA                  & (3\\textasciitilde{}6{]}  & NA                  & NA         & NA & ... & NA & NA  & NA    & NA & NA & NA              & no & NA & NA & 1\\\\\n",
       "\t556 & 0.01142857 & 1 & 0.01142857 & 1.428571 & 8 & NA                  & NA     & NA                  & NA         & NA & ... & NA & NA  & NA    & NA & NA & NA              & no & NA & NA & 1\\\\\n",
       "\\end{tabular}\n"
      ],
      "text/markdown": [
       "\n",
       "A data.frame: 6 x 27\n",
       "\n",
       "| <!--/--> | support &lt;dbl&gt; | confidence &lt;dbl&gt; | coverage &lt;dbl&gt; | lift &lt;dbl&gt; | count &lt;int&gt; | Status.of.existing.checking.account &lt;chr&gt; | Duration.in.month &lt;chr&gt; | Credit.history &lt;chr&gt; | Purpose &lt;chr&gt; | Credit.amount &lt;chr&gt; | ... ... | Other.installment.plans &lt;chr&gt; | Housing &lt;chr&gt; | Number.of.existing.credits.at.this.bank &lt;chr&gt; | Job &lt;chr&gt; | Number.of.people.being.liable.to.provide.maintenance.for &lt;lgl&gt; | Telephone &lt;chr&gt; | Foreign.worker &lt;chr&gt; | Gender &lt;chr&gt; | Marital.Status &lt;chr&gt; | Class &lt;chr&gt; |\n",
       "|---|---|---|---|---|---|---|---|---|---|---|---|---|---|---|---|---|---|---|---|---|---|\n",
       "| 230 | 0.01000000 | 1 | 0.01000000 | 1.428571 | 7 | NA                  | NA     | NA                  | retraining | NA | ... | NA | own | NA    | NA | NA | NA              | NA | NA | NA | 1 |\n",
       "| 356 | 0.01142857 | 1 | 0.01142857 | 3.333333 | 8 | NA                  | NA     | no credits/all paid | NA         | NA | ... | NA | NA  | NA    | NA | NA | yes~ registered | NA | NA | NA | 2 |\n",
       "| 480 | 0.01285714 | 1 | 0.01285714 | 1.428571 | 9 | no checking account | NA     | NA                  | NA         | NA | ... | NA | NA  | (2~4] | NA | NA | NA              | NA | NA | NA | 1 |\n",
       "| 504 | 0.01000000 | 1 | 0.01000000 | 1.428571 | 7 | NA                  | (9~12] | NA                  | NA         | NA | ... | NA | NA  | NA    | NA | NA | NA              | NA | NA | NA | 1 |\n",
       "| 555 | 0.01000000 | 1 | 0.01000000 | 1.428571 | 7 | NA                  | (3~6]  | NA                  | NA         | NA | ... | NA | NA  | NA    | NA | NA | NA              | no | NA | NA | 1 |\n",
       "| 556 | 0.01142857 | 1 | 0.01142857 | 1.428571 | 8 | NA                  | NA     | NA                  | NA         | NA | ... | NA | NA  | NA    | NA | NA | NA              | no | NA | NA | 1 |\n",
       "\n"
      ],
      "text/plain": [
       "    support    confidence coverage   lift     count\n",
       "230 0.01000000 1          0.01000000 1.428571 7    \n",
       "356 0.01142857 1          0.01142857 3.333333 8    \n",
       "480 0.01285714 1          0.01285714 1.428571 9    \n",
       "504 0.01000000 1          0.01000000 1.428571 7    \n",
       "555 0.01000000 1          0.01000000 1.428571 7    \n",
       "556 0.01142857 1          0.01142857 1.428571 8    \n",
       "    Status.of.existing.checking.account Duration.in.month Credit.history     \n",
       "230 NA                                  NA                NA                 \n",
       "356 NA                                  NA                no credits/all paid\n",
       "480 no checking account                 NA                NA                 \n",
       "504 NA                                  (9~12]            NA                 \n",
       "555 NA                                  (3~6]             NA                 \n",
       "556 NA                                  NA                NA                 \n",
       "    Purpose    Credit.amount ... Other.installment.plans Housing\n",
       "230 retraining NA            ... NA                      own    \n",
       "356 NA         NA            ... NA                      NA     \n",
       "480 NA         NA            ... NA                      NA     \n",
       "504 NA         NA            ... NA                      NA     \n",
       "555 NA         NA            ... NA                      NA     \n",
       "556 NA         NA            ... NA                      NA     \n",
       "    Number.of.existing.credits.at.this.bank Job\n",
       "230 NA                                      NA \n",
       "356 NA                                      NA \n",
       "480 (2~4]                                   NA \n",
       "504 NA                                      NA \n",
       "555 NA                                      NA \n",
       "556 NA                                      NA \n",
       "    Number.of.people.being.liable.to.provide.maintenance.for Telephone      \n",
       "230 NA                                                       NA             \n",
       "356 NA                                                       yes~ registered\n",
       "480 NA                                                       NA             \n",
       "504 NA                                                       NA             \n",
       "555 NA                                                       NA             \n",
       "556 NA                                                       NA             \n",
       "    Foreign.worker Gender Marital.Status Class\n",
       "230 NA             NA     NA             1    \n",
       "356 NA             NA     NA             2    \n",
       "480 NA             NA     NA             1    \n",
       "504 NA             NA     NA             1    \n",
       "555 no             NA     NA             1    \n",
       "556 no             NA     NA             1    "
      ]
     },
     "metadata": {},
     "output_type": "display_data"
    }
   ],
   "source": [
    "rules <- extract_rules(classifier, test)\n",
    "head(rules)"
   ]
  },
  {
   "cell_type": "markdown",
   "metadata": {},
   "source": [
    "#### Definición de extracción de reglas activadas"
   ]
  },
  {
   "cell_type": "code",
   "execution_count": 296,
   "metadata": {
    "vscode": {
     "languageId": "r"
    }
   },
   "outputs": [],
   "source": [
    "trans_test <- as(test, \"transactions\")"
   ]
  },
  {
   "cell_type": "markdown",
   "metadata": {},
   "source": [
    "#### Obtención de predicciones"
   ]
  },
  {
   "cell_type": "code",
   "execution_count": 297,
   "metadata": {
    "vscode": {
     "languageId": "r"
    }
   },
   "outputs": [],
   "source": [
    "predictions <- predict(classifier, trans_test, weights = test_weights)"
   ]
  },
  {
   "cell_type": "markdown",
   "metadata": {},
   "source": [
    "#### Matriz de confusión"
   ]
  },
  {
   "cell_type": "code",
   "execution_count": 298,
   "metadata": {
    "vscode": {
     "languageId": "r"
    }
   },
   "outputs": [
    {
     "name": "stdout",
     "output_type": "stream",
     "text": [
      "[1] \"Confusion Matrix:\"\n",
      "           actual_labels\n",
      "predictions   1   2\n",
      "          1 137  22\n",
      "          2  73  68\n"
     ]
    }
   ],
   "source": [
    "confusion_matrix <- confusion_matrix(predictions, y_test)"
   ]
  },
  {
   "cell_type": "markdown",
   "metadata": {},
   "source": [
    "#### Precisión del modelo"
   ]
  },
  {
   "cell_type": "code",
   "execution_count": 299,
   "metadata": {
    "vscode": {
     "languageId": "r"
    }
   },
   "outputs": [
    {
     "name": "stdout",
     "output_type": "stream",
     "text": [
      "[1] \"Accuracy: 0.68\"\n"
     ]
    }
   ],
   "source": [
    "# Calculate accuracy\n",
    "accuracy <- sum(diag(confusion_matrix)) / sum(confusion_matrix)\n",
    "print(paste(\"Accuracy:\", round(accuracy, 2)))"
   ]
  },
  {
   "cell_type": "markdown",
   "metadata": {},
   "source": [
    "#### División grárica de las clases "
   ]
  },
  {
   "cell_type": "code",
   "execution_count": 300,
   "metadata": {
    "vscode": {
     "languageId": "r"
    }
   },
   "outputs": [],
   "source": [
    "# TODO"
   ]
  }
 ],
 "metadata": {
  "kernelspec": {
   "display_name": "R",
   "language": "R",
   "name": "ir"
  },
  "language_info": {
   "codemirror_mode": "r",
   "file_extension": ".r",
   "mimetype": "text/x-r-source",
   "name": "R",
   "pygments_lexer": "r",
   "version": "4.3.1"
  }
 },
 "nbformat": 4,
 "nbformat_minor": 2
}
