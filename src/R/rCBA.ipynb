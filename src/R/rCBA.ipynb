{
 "cells": [
  {
   "cell_type": "markdown",
   "metadata": {},
   "source": [
    "# Detección de clases con aprendizaje supervisado reproducible"
   ]
  },
  {
   "cell_type": "markdown",
   "metadata": {},
   "source": [
    "## Oier Mentxaka\n",
    "https://cran.r-project.org/web/packages/arulesCBA/arulesCBA.pdf"
   ]
  },
  {
   "cell_type": "markdown",
   "metadata": {},
   "source": [
    "### Carga de librerías\n"
   ]
  },
  {
   "cell_type": "code",
   "execution_count": 134,
   "metadata": {
    "vscode": {
     "languageId": "r"
    }
   },
   "outputs": [],
   "source": [
    "library(tidyverse)\n",
    "library(caret)\n",
    "library(arulesCBA)\n",
    "source(\"Modelos/rCBA.R\")\n",
    "source(\"Preprocesamiento/utils.R\")\n",
    "source(\"Preprocesamiento/plots.R\")"
   ]
  },
  {
   "cell_type": "markdown",
   "metadata": {},
   "source": [
    "#### Asignación de la semilla"
   ]
  },
  {
   "cell_type": "code",
   "execution_count": 135,
   "metadata": {
    "vscode": {
     "languageId": "r"
    }
   },
   "outputs": [],
   "source": [
    "set.seed(123)"
   ]
  },
  {
   "cell_type": "markdown",
   "metadata": {},
   "source": [
    "#### Lectura de fichero ya filtrado"
   ]
  },
  {
   "cell_type": "code",
   "execution_count": 136,
   "metadata": {
    "vscode": {
     "languageId": "r"
    }
   },
   "outputs": [],
   "source": [
    "data <- read.csv(\"../data/Statlog_rCBA.csv\", header = TRUE, sep = \",\")"
   ]
  },
  {
   "cell_type": "markdown",
   "metadata": {},
   "source": [
    "#### Factorización de las variables"
   ]
  },
  {
   "cell_type": "code",
   "execution_count": 137,
   "metadata": {
    "vscode": {
     "languageId": "r"
    }
   },
   "outputs": [],
   "source": [
    "data <- mutate_all(data, as.factor)"
   ]
  },
  {
   "cell_type": "markdown",
   "metadata": {},
   "source": [
    "#### Separación de train y test"
   ]
  },
  {
   "cell_type": "code",
   "execution_count": 138,
   "metadata": {
    "vscode": {
     "languageId": "r"
    }
   },
   "outputs": [],
   "source": [
    "index <- createDataPartition(data$Class, p = 0.7, list = FALSE)\n",
    "\n",
    "# Split the data\n",
    "train <- data[index, ]\n",
    "test <- data[-index, ]"
   ]
  },
  {
   "cell_type": "markdown",
   "metadata": {},
   "source": [
    "#### Eliminacion de variable a predecir de testing"
   ]
  },
  {
   "cell_type": "code",
   "execution_count": 139,
   "metadata": {
    "vscode": {
     "languageId": "r"
    }
   },
   "outputs": [],
   "source": [
    "y_test <- test$Class\n",
    "test$Class <- NULL"
   ]
  },
  {
   "cell_type": "markdown",
   "metadata": {},
   "source": [
    "#### Obtención de los Weighs"
   ]
  },
  {
   "cell_type": "code",
   "execution_count": 140,
   "metadata": {
    "vscode": {
     "languageId": "r"
    }
   },
   "outputs": [],
   "source": [
    "train_weights <- train$Weighs\n",
    "train$Weighs <- NULL\n",
    "test_weights <- test$Weighs\n",
    "test$Weighs <- NULL"
   ]
  },
  {
   "cell_type": "markdown",
   "metadata": {},
   "source": [
    "#### Grid search"
   ]
  },
  {
   "cell_type": "code",
   "execution_count": 141,
   "metadata": {
    "vscode": {
     "languageId": "r"
    }
   },
   "outputs": [],
   "source": [
    "# # Example values for the grid search\n",
    "# support_values <- seq(0.01, 0.1, by = 0.01)\n",
    "# confidence_values <- seq(0.01, 0.1, by = 0.01)\n",
    "\n",
    "# best <- grid_search(train, test, y_test, support_values, confidence_values,train_weights = train_weights, test_weights = NULL)\n",
    "# print(best)"
   ]
  },
  {
   "cell_type": "markdown",
   "metadata": {},
   "source": [
    "#### Selección de variables \n",
    "\n",
    "Seleccionadas tras realizar un estudio con grid search"
   ]
  },
  {
   "cell_type": "code",
   "execution_count": 142,
   "metadata": {
    "vscode": {
     "languageId": "r"
    }
   },
   "outputs": [],
   "source": [
    "support <- 0.9\n",
    "confidence <- 0.5"
   ]
  },
  {
   "cell_type": "markdown",
   "metadata": {},
   "source": [
    "#### Creación del modelo"
   ]
  },
  {
   "cell_type": "code",
   "execution_count": 143,
   "metadata": {
    "vscode": {
     "languageId": "r"
    }
   },
   "outputs": [
    {
     "name": "stdout",
     "output_type": "stream",
     "text": [
      "Apriori\n",
      "\n",
      "Parameter specification:\n",
      " confidence minval smax arem  aval originalSupport maxtime support minlen\n",
      "        0.5    0.1    1 none FALSE           FALSE       5     0.9      1\n",
      " maxlen target  ext\n",
      "      5  rules TRUE\n",
      "\n",
      "Algorithmic control:\n",
      " filter tree heap memopt load sort verbose\n",
      "    0.1 TRUE TRUE  FALSE TRUE    2    TRUE\n",
      "\n",
      "Absolute minimum support count: 630 \n",
      "\n",
      "set item appearances ...[112 item(s)] done [0.00s].\n",
      "set transactions ...[112 item(s), 700 transaction(s)] done [0.00s].\n",
      "sorting and recoding items ... [15 item(s)] done [0.00s].\n",
      "creating transaction tree ... done [0.00s].\n",
      "checking subsets of size 1 2 3 4 done [0.00s].\n",
      "writing ... [16 rule(s)] done [0.00s].\n",
      "creating S4 object  ... done [0.00s].\n"
     ]
    }
   ],
   "source": [
    "# Convert the training dataset into transactions\n",
    "trans <- as(train, \"transactions\")\n",
    "\n",
    "# Create rule base with CARs (Classification Association Rules)\n",
    "cars <- mineCARs(Class ~ ., trans, parameter = list(support = support, confidence = confidence))\n",
    "\n",
    "# Remove redundant rules\n",
    "cars <- cars[!is.redundant(cars)]\n",
    "\n",
    "# Sort the rules by confidence\n",
    "cars <- sort(cars, by = \"conf\")"
   ]
  },
  {
   "cell_type": "code",
   "execution_count": 144,
   "metadata": {
    "vscode": {
     "languageId": "r"
    }
   },
   "outputs": [],
   "source": [
    "# Fit the model with weights and the rules\n",
    "classifier <- CBA_ruleset(Class ~ .,\n",
    "                           rules = cars,\n",
    "                           default = uncoveredMajorityClass(Class ~ ., trans, cars),\n",
    "                           method = \"majority\",\n",
    "                           weights = train_weights)"
   ]
  },
  {
   "cell_type": "markdown",
   "metadata": {},
   "source": [
    "#### Obtención de reglas y transformación"
   ]
  },
  {
   "cell_type": "code",
   "execution_count": 145,
   "metadata": {
    "vscode": {
     "languageId": "r"
    }
   },
   "outputs": [
    {
     "data": {
      "text/html": [
       "<table class=\"dataframe\">\n",
       "<caption>A data.frame: 3 x 28</caption>\n",
       "<thead>\n",
       "\t<tr><th></th><th scope=col>support</th><th scope=col>confidence</th><th scope=col>coverage</th><th scope=col>lift</th><th scope=col>count</th><th scope=col>Status.of.existing.checking.account</th><th scope=col>Duration.in.month</th><th scope=col>Credit.history</th><th scope=col>Purpose</th><th scope=col>Credit.amount</th><th scope=col>...</th><th scope=col>Housing</th><th scope=col>Number.of.existing.credits.at.this.bank</th><th scope=col>Job</th><th scope=col>Number.of.people.being.liable.to.provide.maintenance.for</th><th scope=col>Telephone</th><th scope=col>Foreign.worker</th><th scope=col>Gender</th><th scope=col>Marital.Status</th><th scope=col>Weights</th><th scope=col>Class</th></tr>\n",
       "\t<tr><th></th><th scope=col>&lt;dbl&gt;</th><th scope=col>&lt;dbl&gt;</th><th scope=col>&lt;dbl&gt;</th><th scope=col>&lt;dbl&gt;</th><th scope=col>&lt;int&gt;</th><th scope=col>&lt;lgl&gt;</th><th scope=col>&lt;lgl&gt;</th><th scope=col>&lt;lgl&gt;</th><th scope=col>&lt;lgl&gt;</th><th scope=col>&lt;lgl&gt;</th><th scope=col>...</th><th scope=col>&lt;lgl&gt;</th><th scope=col>&lt;lgl&gt;</th><th scope=col>&lt;lgl&gt;</th><th scope=col>&lt;lgl&gt;</th><th scope=col>&lt;lgl&gt;</th><th scope=col>&lt;lgl&gt;</th><th scope=col>&lt;lgl&gt;</th><th scope=col>&lt;lgl&gt;</th><th scope=col>&lt;chr&gt;</th><th scope=col>&lt;chr&gt;</th></tr>\n",
       "</thead>\n",
       "<tbody>\n",
       "\t<tr><th scope=row>3</th><td>0.6657143</td><td>0.7092846</td><td>0.9385714</td><td>1.013264</td><td>466</td><td>NA</td><td>NA</td><td>NA</td><td>NA</td><td>NA</td><td>...</td><td>NA</td><td>NA</td><td>NA</td><td>NA</td><td>NA</td><td>NA</td><td>NA</td><td>NA</td><td>1 </td><td>1</td></tr>\n",
       "\t<tr><th scope=row>2</th><td>0.6385714</td><td>0.7028302</td><td>0.9085714</td><td>1.004043</td><td>447</td><td>NA</td><td>NA</td><td>NA</td><td>NA</td><td>NA</td><td>...</td><td>NA</td><td>NA</td><td>NA</td><td>NA</td><td>NA</td><td>NA</td><td>NA</td><td>NA</td><td>NA</td><td>1</td></tr>\n",
       "\t<tr><th scope=row>1</th><td>0.7000000</td><td>0.7000000</td><td>1.0000000</td><td>1.000000</td><td>490</td><td>NA</td><td>NA</td><td>NA</td><td>NA</td><td>NA</td><td>...</td><td>NA</td><td>NA</td><td>NA</td><td>NA</td><td>NA</td><td>NA</td><td>NA</td><td>NA</td><td>NA</td><td>1</td></tr>\n",
       "</tbody>\n",
       "</table>\n"
      ],
      "text/latex": [
       "A data.frame: 3 x 28\n",
       "\\begin{tabular}{r|lllllllllllllllllllll}\n",
       "  & support & confidence & coverage & lift & count & Status.of.existing.checking.account & Duration.in.month & Credit.history & Purpose & Credit.amount & ... & Housing & Number.of.existing.credits.at.this.bank & Job & Number.of.people.being.liable.to.provide.maintenance.for & Telephone & Foreign.worker & Gender & Marital.Status & Weights & Class\\\\\n",
       "  & <dbl> & <dbl> & <dbl> & <dbl> & <int> & <lgl> & <lgl> & <lgl> & <lgl> & <lgl> & ... & <lgl> & <lgl> & <lgl> & <lgl> & <lgl> & <lgl> & <lgl> & <lgl> & <chr> & <chr>\\\\\n",
       "\\hline\n",
       "\t3 & 0.6657143 & 0.7092846 & 0.9385714 & 1.013264 & 466 & NA & NA & NA & NA & NA & ... & NA & NA & NA & NA & NA & NA & NA & NA & 1  & 1\\\\\n",
       "\t2 & 0.6385714 & 0.7028302 & 0.9085714 & 1.004043 & 447 & NA & NA & NA & NA & NA & ... & NA & NA & NA & NA & NA & NA & NA & NA & NA & 1\\\\\n",
       "\t1 & 0.7000000 & 0.7000000 & 1.0000000 & 1.000000 & 490 & NA & NA & NA & NA & NA & ... & NA & NA & NA & NA & NA & NA & NA & NA & NA & 1\\\\\n",
       "\\end{tabular}\n"
      ],
      "text/markdown": [
       "\n",
       "A data.frame: 3 x 28\n",
       "\n",
       "| <!--/--> | support &lt;dbl&gt; | confidence &lt;dbl&gt; | coverage &lt;dbl&gt; | lift &lt;dbl&gt; | count &lt;int&gt; | Status.of.existing.checking.account &lt;lgl&gt; | Duration.in.month &lt;lgl&gt; | Credit.history &lt;lgl&gt; | Purpose &lt;lgl&gt; | Credit.amount &lt;lgl&gt; | ... ... | Housing &lt;lgl&gt; | Number.of.existing.credits.at.this.bank &lt;lgl&gt; | Job &lt;lgl&gt; | Number.of.people.being.liable.to.provide.maintenance.for &lt;lgl&gt; | Telephone &lt;lgl&gt; | Foreign.worker &lt;lgl&gt; | Gender &lt;lgl&gt; | Marital.Status &lt;lgl&gt; | Weights &lt;chr&gt; | Class &lt;chr&gt; |\n",
       "|---|---|---|---|---|---|---|---|---|---|---|---|---|---|---|---|---|---|---|---|---|---|\n",
       "| 3 | 0.6657143 | 0.7092846 | 0.9385714 | 1.013264 | 466 | NA | NA | NA | NA | NA | ... | NA | NA | NA | NA | NA | NA | NA | NA | 1  | 1 |\n",
       "| 2 | 0.6385714 | 0.7028302 | 0.9085714 | 1.004043 | 447 | NA | NA | NA | NA | NA | ... | NA | NA | NA | NA | NA | NA | NA | NA | NA | 1 |\n",
       "| 1 | 0.7000000 | 0.7000000 | 1.0000000 | 1.000000 | 490 | NA | NA | NA | NA | NA | ... | NA | NA | NA | NA | NA | NA | NA | NA | NA | 1 |\n",
       "\n"
      ],
      "text/plain": [
       "  support   confidence coverage  lift     count\n",
       "3 0.6657143 0.7092846  0.9385714 1.013264 466  \n",
       "2 0.6385714 0.7028302  0.9085714 1.004043 447  \n",
       "1 0.7000000 0.7000000  1.0000000 1.000000 490  \n",
       "  Status.of.existing.checking.account Duration.in.month Credit.history Purpose\n",
       "3 NA                                  NA                NA             NA     \n",
       "2 NA                                  NA                NA             NA     \n",
       "1 NA                                  NA                NA             NA     \n",
       "  Credit.amount ... Housing Number.of.existing.credits.at.this.bank Job\n",
       "3 NA            ... NA      NA                                      NA \n",
       "2 NA            ... NA      NA                                      NA \n",
       "1 NA            ... NA      NA                                      NA \n",
       "  Number.of.people.being.liable.to.provide.maintenance.for Telephone\n",
       "3 NA                                                       NA       \n",
       "2 NA                                                       NA       \n",
       "1 NA                                                       NA       \n",
       "  Foreign.worker Gender Marital.Status Weights Class\n",
       "3 NA             NA     NA             1       1    \n",
       "2 NA             NA     NA             NA      1    \n",
       "1 NA             NA     NA             NA      1    "
      ]
     },
     "metadata": {},
     "output_type": "display_data"
    }
   ],
   "source": [
    "rules <- extract_rules(classifier, test)\n",
    "head(rules)"
   ]
  },
  {
   "cell_type": "markdown",
   "metadata": {},
   "source": [
    "#### Definición de extracción de reglas activadas"
   ]
  },
  {
   "cell_type": "code",
   "execution_count": 146,
   "metadata": {
    "vscode": {
     "languageId": "r"
    }
   },
   "outputs": [],
   "source": [
    "trans_test <- as(test, \"transactions\")"
   ]
  },
  {
   "cell_type": "markdown",
   "metadata": {},
   "source": [
    "#### Obtención de predicciones"
   ]
  },
  {
   "cell_type": "code",
   "execution_count": 147,
   "metadata": {
    "vscode": {
     "languageId": "r"
    }
   },
   "outputs": [],
   "source": [
    "predictions <- predict(classifier, trans_test, weights = test_weights)"
   ]
  },
  {
   "cell_type": "markdown",
   "metadata": {},
   "source": [
    "#### Matriz de confusión"
   ]
  },
  {
   "cell_type": "code",
   "execution_count": 148,
   "metadata": {
    "vscode": {
     "languageId": "r"
    }
   },
   "outputs": [
    {
     "name": "stdout",
     "output_type": "stream",
     "text": [
      "[1] \"Confusion Matrix:\"\n",
      "           actual_labels\n",
      "predictions   1   2\n",
      "          1 210  90\n",
      "          2   0   0\n"
     ]
    }
   ],
   "source": [
    "confusion_matrix <- confusion_matrix(predictions, y_test)"
   ]
  },
  {
   "cell_type": "markdown",
   "metadata": {},
   "source": [
    "#### Precisión del modelo"
   ]
  },
  {
   "cell_type": "code",
   "execution_count": 149,
   "metadata": {
    "vscode": {
     "languageId": "r"
    }
   },
   "outputs": [
    {
     "name": "stdout",
     "output_type": "stream",
     "text": [
      "[1] \"Accuracy: 0.7\"\n"
     ]
    }
   ],
   "source": [
    "# Calculate accuracy\n",
    "accuracy <- sum(diag(confusion_matrix)) / sum(confusion_matrix)\n",
    "print(paste(\"Accuracy:\", round(accuracy, 2)))"
   ]
  },
  {
   "cell_type": "markdown",
   "metadata": {},
   "source": [
    "#### División grárica de las clases "
   ]
  },
  {
   "cell_type": "code",
   "execution_count": 150,
   "metadata": {
    "vscode": {
     "languageId": "r"
    }
   },
   "outputs": [],
   "source": [
    "# TODO"
   ]
  }
 ],
 "metadata": {
  "kernelspec": {
   "display_name": "R",
   "language": "R",
   "name": "ir"
  },
  "language_info": {
   "codemirror_mode": "r",
   "file_extension": ".r",
   "mimetype": "text/x-r-source",
   "name": "R",
   "pygments_lexer": "r",
   "version": "4.3.1"
  }
 },
 "nbformat": 4,
 "nbformat_minor": 2
}
