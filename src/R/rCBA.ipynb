{
 "cells": [
  {
   "cell_type": "markdown",
   "metadata": {},
   "source": [
    "# Detección de clases con aprendizaje supervisado reproducible"
   ]
  },
  {
   "cell_type": "markdown",
   "metadata": {},
   "source": [
    "## Oier Mentxaka\n",
    "https://cran.r-project.org/web/packages/arulesCBA/arulesCBA.pdf"
   ]
  },
  {
   "cell_type": "markdown",
   "metadata": {},
   "source": [
    "### Carga de librerías\n"
   ]
  },
  {
   "cell_type": "code",
   "execution_count": 162,
   "metadata": {
    "vscode": {
     "languageId": "r"
    }
   },
   "outputs": [],
   "source": [
    "library(tidyverse)\n",
    "library(caret)\n",
    "library(arulesCBA)\n",
    "source(\"Modelos/rCBA.R\")\n",
    "source(\"Preprocesamiento/utils.R\")\n",
    "source(\"Preprocesamiento/plots.R\")"
   ]
  },
  {
   "cell_type": "markdown",
   "metadata": {},
   "source": [
    "#### Asignación de la semilla"
   ]
  },
  {
   "cell_type": "code",
   "execution_count": 163,
   "metadata": {
    "vscode": {
     "languageId": "r"
    }
   },
   "outputs": [],
   "source": [
    "set.seed(123)"
   ]
  },
  {
   "cell_type": "markdown",
   "metadata": {},
   "source": [
    "#### Lectura de fichero ya filtrado"
   ]
  },
  {
   "cell_type": "code",
   "execution_count": 164,
   "metadata": {
    "vscode": {
     "languageId": "r"
    }
   },
   "outputs": [],
   "source": [
    "data <- read.csv(\"../data/Statlog_rCBA.csv\", header = TRUE, sep = \",\")"
   ]
  },
  {
   "cell_type": "markdown",
   "metadata": {},
   "source": [
    "#### Factorización de las variables"
   ]
  },
  {
   "cell_type": "code",
   "execution_count": 165,
   "metadata": {
    "vscode": {
     "languageId": "r"
    }
   },
   "outputs": [],
   "source": [
    "data <- mutate_all(data, as.factor)"
   ]
  },
  {
   "cell_type": "markdown",
   "metadata": {},
   "source": [
    "#### Separación de train y test"
   ]
  },
  {
   "cell_type": "code",
   "execution_count": 166,
   "metadata": {
    "vscode": {
     "languageId": "r"
    }
   },
   "outputs": [],
   "source": [
    "index <- createDataPartition(data$Class, p = 0.7, list = FALSE)\n",
    "\n",
    "# Split the data\n",
    "train <- data[index, ]\n",
    "test <- data[-index, ]"
   ]
  },
  {
   "cell_type": "markdown",
   "metadata": {},
   "source": [
    "#### Eliminacion de variable a predecir de testing"
   ]
  },
  {
   "cell_type": "code",
   "execution_count": 167,
   "metadata": {
    "vscode": {
     "languageId": "r"
    }
   },
   "outputs": [],
   "source": [
    "y_test <- test$Class\n",
    "test$Class <- NULL"
   ]
  },
  {
   "cell_type": "markdown",
   "metadata": {},
   "source": [
    "#### Selección de variables \n",
    "\n",
    "Seleccionadas tras realizar un estudio con grid search"
   ]
  },
  {
   "cell_type": "code",
   "execution_count": 168,
   "metadata": {
    "vscode": {
     "languageId": "r"
    }
   },
   "outputs": [],
   "source": [
    "support <- 0.1\n",
    "confidence <- 0.1"
   ]
  },
  {
   "cell_type": "markdown",
   "metadata": {},
   "source": [
    "#### Obtención de los pesos"
   ]
  },
  {
   "cell_type": "code",
   "execution_count": 169,
   "metadata": {
    "vscode": {
     "languageId": "r"
    }
   },
   "outputs": [],
   "source": [
    "train_weights <- train$pesos\n",
    "train$pesos <- NULL\n",
    "test_weights <- test$pesos\n",
    "test$pesos <- NULL"
   ]
  },
  {
   "cell_type": "markdown",
   "metadata": {},
   "source": [
    "#### Creación del modelo"
   ]
  },
  {
   "cell_type": "code",
   "execution_count": 170,
   "metadata": {
    "vscode": {
     "languageId": "r"
    }
   },
   "outputs": [
    {
     "name": "stdout",
     "output_type": "stream",
     "text": [
      "Apriori\n",
      "\n",
      "Parameter specification:\n",
      " confidence minval smax arem  aval originalSupport maxtime support minlen\n",
      "        0.1    0.1    1 none FALSE           FALSE       5     0.1      1\n",
      " maxlen target  ext\n",
      "      5  rules TRUE\n",
      "\n",
      "Algorithmic control:\n",
      " filter tree heap memopt load sort verbose\n",
      "    0.1 TRUE TRUE  FALSE TRUE    2    TRUE\n",
      "\n",
      "Absolute minimum support count: 70 \n",
      "\n",
      "set item appearances ...[112 item(s)] done [0.00s].\n",
      "set transactions ...[112 item(s), 700 transaction(s)] done [0.00s].\n",
      "sorting and recoding items ... [110 item(s)] done [0.00s].\n",
      "creating transaction tree ... done [0.00s].\n",
      "checking subsets of size 1 2 3 4 5 done [0.06s].\n",
      "writing ... [19378 rule(s)] done [0.01s].\n",
      "creating S4 object  ... done [0.01s].\n"
     ]
    }
   ],
   "source": [
    "# Convert the training dataset into transactions\n",
    "trans <- as(train, \"transactions\")\n",
    "\n",
    "# Create rule base with CARs (Classification Association Rules)\n",
    "cars <- mineCARs(Class ~ ., trans, parameter = list(support = support, confidence = confidence))\n",
    "\n",
    "# Remove redundant rules\n",
    "cars <- cars[!is.redundant(cars)]\n",
    "\n",
    "# Sort the rules by confidence\n",
    "cars <- sort(cars, by = \"conf\")"
   ]
  },
  {
   "cell_type": "code",
   "execution_count": 171,
   "metadata": {
    "vscode": {
     "languageId": "r"
    }
   },
   "outputs": [],
   "source": [
    "# Fit the model with weights and the rules\n",
    "classifier <- CBA_ruleset(Class ~ .,\n",
    "                           rules = cars,\n",
    "                           default = uncoveredMajorityClass(Class ~ ., trans, cars),\n",
    "                           method = \"majority\",\n",
    "                           weights = train_weights)"
   ]
  },
  {
   "cell_type": "markdown",
   "metadata": {},
   "source": [
    "#### Obtención de reglas y transformación"
   ]
  },
  {
   "cell_type": "code",
   "execution_count": 172,
   "metadata": {
    "vscode": {
     "languageId": "r"
    }
   },
   "outputs": [
    {
     "data": {
      "text/html": [
       "<table class=\"dataframe\">\n",
       "<caption>A data.frame: 6 x 28</caption>\n",
       "<thead>\n",
       "\t<tr><th></th><th scope=col>support</th><th scope=col>confidence</th><th scope=col>coverage</th><th scope=col>lift</th><th scope=col>count</th><th scope=col>Status.of.existing.checking.account</th><th scope=col>Duration.in.month</th><th scope=col>Credit.history</th><th scope=col>Purpose</th><th scope=col>Credit.amount</th><th scope=col>...</th><th scope=col>Housing</th><th scope=col>Number.of.existing.credits.at.this.bank</th><th scope=col>Job</th><th scope=col>Number.of.people.being.liable.to.provide.maintenance.for</th><th scope=col>Telephone</th><th scope=col>Foreign.worker</th><th scope=col>Gender</th><th scope=col>Marital.Status</th><th scope=col>Weights</th><th scope=col>Class</th></tr>\n",
       "\t<tr><th></th><th scope=col>&lt;dbl&gt;</th><th scope=col>&lt;dbl&gt;</th><th scope=col>&lt;dbl&gt;</th><th scope=col>&lt;dbl&gt;</th><th scope=col>&lt;int&gt;</th><th scope=col>&lt;chr&gt;</th><th scope=col>&lt;chr&gt;</th><th scope=col>&lt;chr&gt;</th><th scope=col>&lt;chr&gt;</th><th scope=col>&lt;lgl&gt;</th><th scope=col>...</th><th scope=col>&lt;chr&gt;</th><th scope=col>&lt;chr&gt;</th><th scope=col>&lt;chr&gt;</th><th scope=col>&lt;lgl&gt;</th><th scope=col>&lt;chr&gt;</th><th scope=col>&lt;chr&gt;</th><th scope=col>&lt;chr&gt;</th><th scope=col>&lt;chr&gt;</th><th scope=col>&lt;chr&gt;</th><th scope=col>&lt;chr&gt;</th></tr>\n",
       "</thead>\n",
       "<tbody>\n",
       "\t<tr><th scope=row>11492</th><td>0.1042857</td><td>0.9864865</td><td>0.1057143</td><td>1.409266</td><td> 73</td><td>no checking account</td><td>NA</td><td>critical account</td><td>NA              </td><td>NA</td><td>...</td><td>own</td><td>NA</td><td>NA              </td><td>NA</td><td>NA             </td><td>NA</td><td>NA</td><td>NA    </td><td>NA</td><td>1</td></tr>\n",
       "\t<tr><th scope=row>3590</th><td>0.1271429</td><td>0.9780220</td><td>0.1300000</td><td>1.397174</td><td> 89</td><td>no checking account</td><td>NA</td><td>critical account</td><td>NA              </td><td>NA</td><td>...</td><td>NA </td><td>NA</td><td>NA              </td><td>NA</td><td>NA             </td><td>NA</td><td>NA</td><td>NA    </td><td>NA</td><td>1</td></tr>\n",
       "\t<tr><th scope=row>17175</th><td>0.1171429</td><td>0.9761905</td><td>0.1200000</td><td>1.394558</td><td> 82</td><td>no checking account</td><td>NA</td><td>NA              </td><td>NA              </td><td>NA</td><td>...</td><td>own</td><td>NA</td><td>skilled employee</td><td>NA</td><td>NA             </td><td>NA</td><td>NA</td><td>NA    </td><td>NA</td><td>1</td></tr>\n",
       "\t<tr><th scope=row>17057</th><td>0.1071429</td><td>0.9740260</td><td>0.1100000</td><td>1.391466</td><td> 75</td><td>no checking account</td><td>NA</td><td>NA              </td><td>NA              </td><td>NA</td><td>...</td><td>NA </td><td>NA</td><td>skilled employee</td><td>NA</td><td>yes~ registered</td><td>NA</td><td>NA</td><td>NA    </td><td>NA</td><td>1</td></tr>\n",
       "\t<tr><th scope=row>17272</th><td>0.1428571</td><td>0.9708738</td><td>0.1471429</td><td>1.386963</td><td>100</td><td>no checking account</td><td>NA</td><td>NA              </td><td>NA              </td><td>NA</td><td>...</td><td>own</td><td>NA</td><td>NA              </td><td>NA</td><td>NA             </td><td>NA</td><td>NA</td><td>single</td><td>NA</td><td>1</td></tr>\n",
       "\t<tr><th scope=row>10952</th><td>0.1071429</td><td>0.9615385</td><td>0.1114286</td><td>1.373626</td><td> 75</td><td>no checking account</td><td>NA</td><td>NA              </td><td>radio/television</td><td>NA</td><td>...</td><td>NA </td><td>NA</td><td>NA              </td><td>NA</td><td>NA             </td><td>NA</td><td>NA</td><td>NA    </td><td>1 </td><td>1</td></tr>\n",
       "</tbody>\n",
       "</table>\n"
      ],
      "text/latex": [
       "A data.frame: 6 x 28\n",
       "\\begin{tabular}{r|lllllllllllllllllllll}\n",
       "  & support & confidence & coverage & lift & count & Status.of.existing.checking.account & Duration.in.month & Credit.history & Purpose & Credit.amount & ... & Housing & Number.of.existing.credits.at.this.bank & Job & Number.of.people.being.liable.to.provide.maintenance.for & Telephone & Foreign.worker & Gender & Marital.Status & Weights & Class\\\\\n",
       "  & <dbl> & <dbl> & <dbl> & <dbl> & <int> & <chr> & <chr> & <chr> & <chr> & <lgl> & ... & <chr> & <chr> & <chr> & <lgl> & <chr> & <chr> & <chr> & <chr> & <chr> & <chr>\\\\\n",
       "\\hline\n",
       "\t11492 & 0.1042857 & 0.9864865 & 0.1057143 & 1.409266 &  73 & no checking account & NA & critical account & NA               & NA & ... & own & NA & NA               & NA & NA              & NA & NA & NA     & NA & 1\\\\\n",
       "\t3590 & 0.1271429 & 0.9780220 & 0.1300000 & 1.397174 &  89 & no checking account & NA & critical account & NA               & NA & ... & NA  & NA & NA               & NA & NA              & NA & NA & NA     & NA & 1\\\\\n",
       "\t17175 & 0.1171429 & 0.9761905 & 0.1200000 & 1.394558 &  82 & no checking account & NA & NA               & NA               & NA & ... & own & NA & skilled employee & NA & NA              & NA & NA & NA     & NA & 1\\\\\n",
       "\t17057 & 0.1071429 & 0.9740260 & 0.1100000 & 1.391466 &  75 & no checking account & NA & NA               & NA               & NA & ... & NA  & NA & skilled employee & NA & yes\\textasciitilde{} registered & NA & NA & NA     & NA & 1\\\\\n",
       "\t17272 & 0.1428571 & 0.9708738 & 0.1471429 & 1.386963 & 100 & no checking account & NA & NA               & NA               & NA & ... & own & NA & NA               & NA & NA              & NA & NA & single & NA & 1\\\\\n",
       "\t10952 & 0.1071429 & 0.9615385 & 0.1114286 & 1.373626 &  75 & no checking account & NA & NA               & radio/television & NA & ... & NA  & NA & NA               & NA & NA              & NA & NA & NA     & 1  & 1\\\\\n",
       "\\end{tabular}\n"
      ],
      "text/markdown": [
       "\n",
       "A data.frame: 6 x 28\n",
       "\n",
       "| <!--/--> | support &lt;dbl&gt; | confidence &lt;dbl&gt; | coverage &lt;dbl&gt; | lift &lt;dbl&gt; | count &lt;int&gt; | Status.of.existing.checking.account &lt;chr&gt; | Duration.in.month &lt;chr&gt; | Credit.history &lt;chr&gt; | Purpose &lt;chr&gt; | Credit.amount &lt;lgl&gt; | ... ... | Housing &lt;chr&gt; | Number.of.existing.credits.at.this.bank &lt;chr&gt; | Job &lt;chr&gt; | Number.of.people.being.liable.to.provide.maintenance.for &lt;lgl&gt; | Telephone &lt;chr&gt; | Foreign.worker &lt;chr&gt; | Gender &lt;chr&gt; | Marital.Status &lt;chr&gt; | Weights &lt;chr&gt; | Class &lt;chr&gt; |\n",
       "|---|---|---|---|---|---|---|---|---|---|---|---|---|---|---|---|---|---|---|---|---|---|\n",
       "| 11492 | 0.1042857 | 0.9864865 | 0.1057143 | 1.409266 |  73 | no checking account | NA | critical account | NA               | NA | ... | own | NA | NA               | NA | NA              | NA | NA | NA     | NA | 1 |\n",
       "| 3590 | 0.1271429 | 0.9780220 | 0.1300000 | 1.397174 |  89 | no checking account | NA | critical account | NA               | NA | ... | NA  | NA | NA               | NA | NA              | NA | NA | NA     | NA | 1 |\n",
       "| 17175 | 0.1171429 | 0.9761905 | 0.1200000 | 1.394558 |  82 | no checking account | NA | NA               | NA               | NA | ... | own | NA | skilled employee | NA | NA              | NA | NA | NA     | NA | 1 |\n",
       "| 17057 | 0.1071429 | 0.9740260 | 0.1100000 | 1.391466 |  75 | no checking account | NA | NA               | NA               | NA | ... | NA  | NA | skilled employee | NA | yes~ registered | NA | NA | NA     | NA | 1 |\n",
       "| 17272 | 0.1428571 | 0.9708738 | 0.1471429 | 1.386963 | 100 | no checking account | NA | NA               | NA               | NA | ... | own | NA | NA               | NA | NA              | NA | NA | single | NA | 1 |\n",
       "| 10952 | 0.1071429 | 0.9615385 | 0.1114286 | 1.373626 |  75 | no checking account | NA | NA               | radio/television | NA | ... | NA  | NA | NA               | NA | NA              | NA | NA | NA     | 1  | 1 |\n",
       "\n"
      ],
      "text/plain": [
       "      support   confidence coverage  lift     count\n",
       "11492 0.1042857 0.9864865  0.1057143 1.409266  73  \n",
       "3590  0.1271429 0.9780220  0.1300000 1.397174  89  \n",
       "17175 0.1171429 0.9761905  0.1200000 1.394558  82  \n",
       "17057 0.1071429 0.9740260  0.1100000 1.391466  75  \n",
       "17272 0.1428571 0.9708738  0.1471429 1.386963 100  \n",
       "10952 0.1071429 0.9615385  0.1114286 1.373626  75  \n",
       "      Status.of.existing.checking.account Duration.in.month Credit.history  \n",
       "11492 no checking account                 NA                critical account\n",
       "3590  no checking account                 NA                critical account\n",
       "17175 no checking account                 NA                NA              \n",
       "17057 no checking account                 NA                NA              \n",
       "17272 no checking account                 NA                NA              \n",
       "10952 no checking account                 NA                NA              \n",
       "      Purpose          Credit.amount ... Housing\n",
       "11492 NA               NA            ... own    \n",
       "3590  NA               NA            ... NA     \n",
       "17175 NA               NA            ... own    \n",
       "17057 NA               NA            ... NA     \n",
       "17272 NA               NA            ... own    \n",
       "10952 radio/television NA            ... NA     \n",
       "      Number.of.existing.credits.at.this.bank Job             \n",
       "11492 NA                                      NA              \n",
       "3590  NA                                      NA              \n",
       "17175 NA                                      skilled employee\n",
       "17057 NA                                      skilled employee\n",
       "17272 NA                                      NA              \n",
       "10952 NA                                      NA              \n",
       "      Number.of.people.being.liable.to.provide.maintenance.for Telephone      \n",
       "11492 NA                                                       NA             \n",
       "3590  NA                                                       NA             \n",
       "17175 NA                                                       NA             \n",
       "17057 NA                                                       yes~ registered\n",
       "17272 NA                                                       NA             \n",
       "10952 NA                                                       NA             \n",
       "      Foreign.worker Gender Marital.Status Weights Class\n",
       "11492 NA             NA     NA             NA      1    \n",
       "3590  NA             NA     NA             NA      1    \n",
       "17175 NA             NA     NA             NA      1    \n",
       "17057 NA             NA     NA             NA      1    \n",
       "17272 NA             NA     single         NA      1    \n",
       "10952 NA             NA     NA             1       1    "
      ]
     },
     "metadata": {},
     "output_type": "display_data"
    }
   ],
   "source": [
    "rules <- extract_rules(classifier, test)\n",
    "head(rules)"
   ]
  },
  {
   "cell_type": "markdown",
   "metadata": {},
   "source": [
    "#### Definición de extracción de reglas activadas"
   ]
  },
  {
   "cell_type": "code",
   "execution_count": 173,
   "metadata": {
    "vscode": {
     "languageId": "r"
    }
   },
   "outputs": [],
   "source": [
    "trans_test <- as(test, \"transactions\")"
   ]
  },
  {
   "cell_type": "markdown",
   "metadata": {},
   "source": [
    "#### Obtención de predicciones"
   ]
  },
  {
   "cell_type": "code",
   "execution_count": 174,
   "metadata": {
    "vscode": {
     "languageId": "r"
    }
   },
   "outputs": [],
   "source": [
    "predictions <- predict(classifier, trans_test, weights = test_weights)"
   ]
  },
  {
   "cell_type": "markdown",
   "metadata": {},
   "source": [
    "#### Matriz de confusión"
   ]
  },
  {
   "cell_type": "code",
   "execution_count": 175,
   "metadata": {
    "vscode": {
     "languageId": "r"
    }
   },
   "outputs": [
    {
     "name": "stdout",
     "output_type": "stream",
     "text": [
      "[1] \"Confusion Matrix:\"\n",
      "           actual_labels\n",
      "predictions   1   2\n",
      "          1 164  48\n",
      "          2  46  42\n"
     ]
    }
   ],
   "source": [
    "confusion_matrix <- confusion_matrix(predictions, y_test)"
   ]
  },
  {
   "cell_type": "markdown",
   "metadata": {},
   "source": [
    "#### Precisión del modelo"
   ]
  },
  {
   "cell_type": "code",
   "execution_count": 176,
   "metadata": {
    "vscode": {
     "languageId": "r"
    }
   },
   "outputs": [
    {
     "name": "stdout",
     "output_type": "stream",
     "text": [
      "[1] \"Accuracy: 0.69\"\n"
     ]
    }
   ],
   "source": [
    "# Calculate accuracy\n",
    "accuracy <- sum(diag(confusion_matrix)) / sum(confusion_matrix)\n",
    "print(paste(\"Accuracy:\", round(accuracy, 2)))"
   ]
  }
 ],
 "metadata": {
  "kernelspec": {
   "display_name": "R",
   "language": "R",
   "name": "ir"
  },
  "language_info": {
   "codemirror_mode": "r",
   "file_extension": ".r",
   "mimetype": "text/x-r-source",
   "name": "R",
   "pygments_lexer": "r",
   "version": "4.3.1"
  }
 },
 "nbformat": 4,
 "nbformat_minor": 2
}
