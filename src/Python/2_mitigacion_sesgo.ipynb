{
 "cells": [
  {
   "cell_type": "markdown",
   "metadata": {},
   "source": [
    "# AIF360: Fairness in AI Toolkit\n",
    "\n",
    "AIF360 es un conjunto de herramientas diseñadas para abordar la equidad y la justicia en los sistemas de inteligencia artificial (IA). Ofrece una serie de algoritmos, métricas y utilidades para ayudar a los desarrolladores y los profesionales de IA a comprender, medir y mitigar los sesgos y las disparidades en los modelos de IA.\n",
    "\n",
    "## Utilización\n",
    "\n",
    "- **Evaluar la equidad:** Proporciona métricas predefinidas y personalizables para evaluar la equidad de los modelos de IA en función de atributos sensibles como género, raza, edad, etc.\n",
    "- **Mitigar sesgos:** Ofrece algoritmos y técnicas para mitigar los sesgos identificados en los modelos de IA, ya sea en el preprocesamiento de datos, durante el entrenamiento del modelo o en la etapa de postprocesamiento.\n",
    "- **Comprender el impacto de las decisiones de IA:** Permite a los usuarios comprender cómo los modelos de IA pueden afectar a diferentes grupos demográficos y cómo esos impactos pueden ser injustos o discriminatorios.\n",
    "- **Promover la equidad y la justicia:** Facilita el diseño de sistemas de IA más equitativos y justos al proporcionar herramientas para identificar y abordar los sesgos, lo que lleva a una toma de decisiones más inclusiva y ética."
   ]
  },
  {
   "cell_type": "markdown",
   "metadata": {},
   "source": [
    "#### Librerias requeridas"
   ]
  },
  {
   "cell_type": "code",
   "execution_count": 91,
   "metadata": {},
   "outputs": [],
   "source": [
    "from aif360.metrics import BinaryLabelDatasetMetric\n",
    "from aif360.datasets import BinaryLabelDataset\n",
    "from aif360.algorithms.preprocessing.reweighing import Reweighing\n",
    "from sklearn.linear_model import LogisticRegression\n",
    "from sklearn import preprocessing\n",
    "from sklearn.metrics import accuracy_score\n",
    "from sklearn.model_selection import train_test_split\n",
    "from IPython.display import Markdown, display\n",
    "from aif360.algorithms.preprocessing.lfr import LFR\n",
    "import pandas as pd"
   ]
  },
  {
   "cell_type": "markdown",
   "metadata": {},
   "source": [
    "#### Lectura del dataset"
   ]
  },
  {
   "cell_type": "code",
   "execution_count": 92,
   "metadata": {},
   "outputs": [],
   "source": [
    "df = pd.read_csv('../data/Statlog_preprocesado.csv')"
   ]
  },
  {
   "cell_type": "markdown",
   "metadata": {},
   "source": [
    "#### El AIF360 requiere de un dataset de tipo numérico para poder trabajar, por lo que se realiza una conversión de las variables categóricas a numéricas.\n",
    "\n",
    "Se realiza un label encoder porque se ha comprobado que con one hot encoder el modelo pierde precisión en los pesos. Solamente se utilizará este tipo de encoding en este notebook para poder trabajar con el AIF360, posteriormente se volverá a utilizar el dataset original con los pesos obtenidos con AIF360."
   ]
  },
  {
   "cell_type": "code",
   "execution_count": 93,
   "metadata": {},
   "outputs": [
    {
     "name": "stdout",
     "output_type": "stream",
     "text": [
      "Feature Status of existing checking account\n",
      "mapping {'0 - 200 DM': 0, '< 0 DM': 1, '>= 200 DM': 2, 'no checking account': 3}\n",
      "Feature Credit history\n",
      "mapping {'all credits paid': 0, 'critical account': 1, 'delay in paying': 2, 'existing credits paid': 3, 'no credits/all paid': 4}\n",
      "Feature Purpose\n",
      "mapping {'business': 0, 'car (new)': 1, 'car (used)': 2, 'domestic appliances': 3, 'education': 4, 'furniture/equipment': 5, 'others': 6, 'radio/television': 7, 'repairs': 8, 'retraining': 9}\n",
      "Feature Savings account/bonds\n",
      "mapping {'100 - 500 DM': 0, '500 - 1000 DM': 1, '< 100 DM': 2, '>= 1000 DM': 3, 'unknown/no savings': 4}\n",
      "Feature Present employment since\n",
      "mapping {'1 - 4 years': 0, '4 - 7 years': 1, '< 1 year': 2, '>= 7 years': 3, 'unemployed': 4}\n",
      "Feature Other debtors / guarantors\n",
      "mapping {'co-applicant': 0, 'guarantor': 1, 'none': 2}\n",
      "Feature Property\n",
      "mapping {'building society savings': 0, 'car or other': 1, 'real estate': 2, 'unknown/no property': 3}\n",
      "Feature Other installment plans\n",
      "mapping {'bank': 0, 'none': 1, 'stores': 2}\n",
      "Feature Housing\n",
      "mapping {'for free': 0, 'own': 1, 'rent': 2}\n",
      "Feature Job\n",
      "mapping {'management/self-employed': 0, 'skilled employee': 1, 'unemployed/non-resident': 2, 'unskilled resident': 3}\n",
      "Feature Telephone\n",
      "mapping {'none': 0, 'yes, registered': 1}\n",
      "Feature Foreign worker\n",
      "mapping {'no': 0, 'yes': 1}\n",
      "Feature Gender\n",
      "mapping {'female': 0, 'male': 1}\n",
      "Feature Marital Status\n",
      "mapping {'divorced/separated': 0, 'divorced/separated/married': 1, 'married/widowed': 2, 'single': 3}\n"
     ]
    }
   ],
   "source": [
    "categorical_columns = df.select_dtypes(include=['object', 'category']).columns\n",
    "\n",
    "data_encoded = df.copy(deep=True)\n",
    "\n",
    "#Use Scikit-learn label encoding to encode character data\n",
    "lab_enc = preprocessing.LabelEncoder()\n",
    "for col in categorical_columns:\n",
    "        data_encoded[col] = lab_enc.fit_transform(df[col])\n",
    "        le_name_mapping = dict(zip(lab_enc.classes_, lab_enc.transform(lab_enc.classes_)))\n",
    "        print('Feature', col)\n",
    "        print('mapping', le_name_mapping)"
   ]
  },
  {
   "cell_type": "markdown",
   "metadata": {},
   "source": [
    "#### Se realiza un split del dataset en train y test"
   ]
  },
  {
   "cell_type": "code",
   "execution_count": 94,
   "metadata": {},
   "outputs": [],
   "source": [
    "X = data_encoded\n",
    "X = X.drop('Class', axis=1)\n",
    "y = data_encoded['Class']\n",
    "X_train, X_test, y_train, y_test = train_test_split(X, y, test_size=0.2, random_state=0)"
   ]
  },
  {
   "cell_type": "markdown",
   "metadata": {},
   "source": [
    "#### Se convierte el dataframe de Pandas en un objeto BinaryLabelDataset para poder trabajar con AIF360"
   ]
  },
  {
   "cell_type": "markdown",
   "metadata": {},
   "source": [
    "Es necesario definir ciertos parámetros para poder realizar este tipo de conjunto de datos:\n",
    "\n",
    "1. Asignación de variable objetivo y sus valores"
   ]
  },
  {
   "cell_type": "code",
   "execution_count": 95,
   "metadata": {},
   "outputs": [],
   "source": [
    "target_label = ['Class']\n",
    "favorable_labels = 1  # 'Concedido'\n",
    "unfavorable_labels = 2   # 'Denegado'"
   ]
  },
  {
   "cell_type": "markdown",
   "metadata": {},
   "source": [
    "2. Asignación de variables protegidas y sus valores\n",
    "\n",
    "Estas son variables que pueden generar algún sesgo en la sociedad como la edad, el genero, la raza..."
   ]
  },
  {
   "cell_type": "code",
   "execution_count": 96,
   "metadata": {},
   "outputs": [],
   "source": [
    "protected_attributes = [\n",
    "    'Gender',\n",
    "    'Foreign worker',\n",
    "    'Marital Status',\n",
    "    'Job'\n",
    "]\n",
    "\n",
    "privileged_groups = [\n",
    "    {\n",
    "        'Gender': 1, # Hombre\n",
    "        'Foreign worker': 0, # 'no'\n",
    "        'Marital Status': 2, # 'married'\n",
    "        'Job': 0, # 'management/self-employed'\n",
    "        'Job': 1, # 'skilled employee'\n",
    "     }\n",
    "]\n",
    "\n",
    "unprivileged_groups = [\n",
    "    {\n",
    "        'Gender': 0,  # Mujer\n",
    "        'Foreign worker': 1, # 'yes'\n",
    "        'Marital Status': 0,  # 'divorced/separated'\n",
    "        'Marital Status': 3,  # 'single'\n",
    "        'Marital Status': 1,   # 'divorced/separated/married'\n",
    "        'Job': 2,  # 'unemployed/non-resident'\n",
    "        'Job': 3   # 'unskilled resident'\n",
    "    }  \n",
    "]\n"
   ]
  },
  {
   "cell_type": "markdown",
   "metadata": {},
   "source": [
    "En este caso se eligen las siguientes variables como protegidas:\n",
    "- Genero\n",
    "- Trabajador extranjero (se entiende que es inmigrante)\n",
    "- Estado civil\n",
    "- Trabajo (Se entiende que tener _skills_ va directamente relacionado con el nivel de estudios)"
   ]
  },
  {
   "cell_type": "code",
   "execution_count": 97,
   "metadata": {},
   "outputs": [],
   "source": [
    "binary_dataset = BinaryLabelDataset(df=data_encoded,\n",
    "                                      label_names=target_label,\n",
    "                                      favorable_label=favorable_labels,\n",
    "                                      unfavorable_label=unfavorable_labels,\n",
    "                                      protected_attribute_names=protected_attributes\n",
    "                                 )"
   ]
  },
  {
   "cell_type": "markdown",
   "metadata": {},
   "source": [
    "#### Métricas de equidad del conjunto de datos original"
   ]
  },
  {
   "cell_type": "code",
   "execution_count": 98,
   "metadata": {},
   "outputs": [
    {
     "name": "stdout",
     "output_type": "stream",
     "text": [
      "Diferencia de resultados medios entre grupos privilegiados y no privilegiados = -0.093750\n"
     ]
    }
   ],
   "source": [
    "# Metric for the original dataset\n",
    "original_bias = BinaryLabelDatasetMetric(binary_dataset, \n",
    "                                             unprivileged_groups=unprivileged_groups,\n",
    "                                             privileged_groups=privileged_groups)\n",
    "print(\"Diferencia de resultados medios entre grupos privilegiados y no privilegiados = %f\" % original_bias.mean_difference())"
   ]
  },
  {
   "cell_type": "markdown",
   "metadata": {},
   "source": [
    "#### Transformación del conjunto de datos"
   ]
  },
  {
   "cell_type": "markdown",
   "metadata": {},
   "source": [
    "Existen 4 tipos de transformaciones que se pueden realizar en el conjunto de datos:\n",
    "- **Reweighing:** Modifica los pesos de las instancias para que el conjunto de datos sea más equitativo.\n",
    "- **Disparate Impact Remover:** Elimina las características que pueden generar sesgo en el conjunto de datos.\n",
    "- **LFR (Learning Fair Representations):** Aprende una representación justa del conjunto de datos.\n",
    "- **Data preprocessing:** Realiza un preprocesamiento de los datos para eliminar el sesgo.\n",
    "\n",
    "Se ha comprobado que _Data preprocessing_ tarda demasiado como para poder realizarlo y _Dispare impact remover_ necesita el modelo entre medias y no es valido en este caso, por lo que se realizará una transformación con _Reweighing_ y _Disparate Impact Remover_."
   ]
  },
  {
   "cell_type": "code",
   "execution_count": 99,
   "metadata": {},
   "outputs": [],
   "source": [
    "RW = Reweighing(unprivileged_groups=unprivileged_groups,\n",
    "               privileged_groups=privileged_groups)\n",
    "RW.fit(binary_dataset)\n",
    "rw_binary_transformed = RW.transform(binary_dataset)"
   ]
  },
  {
   "cell_type": "code",
   "execution_count": 100,
   "metadata": {},
   "outputs": [
    {
     "name": "stdout",
     "output_type": "stream",
     "text": [
      "step: 0, loss: 168199.02849821656, L_x: 1681982.939169717,  L_y: 0.7344608854860396,  L_z: 6.01796835772106e-05\n",
      "RUNNING THE L-BFGS-B CODE\n",
      "\n",
      "           * * *\n",
      "\n",
      "Machine precision = 2.220D-16\n",
      " N =          220     M =           10\n",
      "\n",
      "At X0         0 variables are exactly at the bounds\n",
      "\n",
      "At iterate    0    f=  1.68199D+05    |proj g|=  1.18186D+01\n",
      "step: 250, loss: 168175.7306718908, L_x: 1681750.240072966,  L_y: 0.7065415742542582,  L_z: 6.150997059308494e-05\n",
      "step: 500, loss: 168060.08389543605, L_x: 1680594.9612415594,  L_y: 0.5876541985635041,  L_z: 5.854077640549109e-05\n",
      "step: 750, loss: 167520.7179161489, L_x: 1675207.5848816934,  L_y: -0.040620280092705754,  L_z: 2.4129806197723582e-05\n",
      "step: 1000, loss: 167490.3856291915, L_x: 1674904.7043270818,  L_y: -0.08485077173628969,  L_z: 2.362752532812505e-05\n",
      "\n",
      "At iterate    1    f=  1.67490D+05    |proj g|=  6.07539D+01\n",
      "  ys=-2.466E+02  -gs= 4.803E+02 BFGS update SKIPPED\n",
      "step: 1250, loss: 163845.26535485886, L_x: 1638560.784508756,  L_y: -10.813096016735145,  L_z: 1.1326111579419885e-28\n",
      "\n",
      "At iterate    2    f=  1.63845D+05    |proj g|=  5.88452D+01\n",
      "  ys=-2.289E+05  -gs= 3.720E+03 BFGS update SKIPPED\n",
      "step: 1500, loss: 160414.94065575497, L_x: 1604257.5375177169,  L_y: -10.813096016735145,  L_z: 2.053908392556943e-53\n",
      "step: 1750, loss: 147353.31966274534, L_x: 1473641.3275876208,  L_y: -10.813096016735145,  L_z: 7.714116249105939e-54\n",
      "\n",
      "At iterate    3    f=  1.05488D+05    |proj g|=  3.52363D+01\n",
      "step: 2000, loss: 62653.486824441694, L_x: 626617.6531998285,  L_y: -8.322615512054625,  L_z: 0.02205998545237756\n",
      "\n",
      "At iterate    4    f=  6.26535D+04    |proj g|=  2.01531D+01\n",
      "step: 2250, loss: 47513.62916449339, L_x: 475201.8517572677,  L_y: -6.591279436116836,  L_z: 0.017634101363553\n",
      "\n",
      "At iterate    5    f=  4.75136D+04    |proj g|=  1.81201D+01\n",
      "step: 2500, loss: 47413.49814344284, L_x: 474200.2676361317,  L_y: -6.5612705049700235,  L_z: 0.01632516731967257\n",
      "step: 2750, loss: 47461.69516771027, L_x: 474682.45325184125,  L_y: -6.585231962245273,  L_z: 0.01753724419088603\n",
      "step: 3000, loss: 47486.63355818743, L_x: 474931.83458927984,  L_y: -6.584141045358927,  L_z: 0.01712015239952582\n",
      "\n",
      "At iterate    6    f=  4.74866D+04    |proj g|=  1.82484D+01\n",
      "step: 3250, loss: 47410.38244049542, L_x: 474169.0978746101,  L_y: -6.558307465164702,  L_z: 0.01548024978394919\n",
      "step: 3500, loss: 47485.13773877027, L_x: 474916.8764299977,  L_y: -6.584144517232537,  L_z: 0.017120143863372204\n",
      "step: 3750, loss: 47463.72504190902, L_x: 474702.5197272768,  L_y: -6.558272592415261,  L_z: 0.01567088687645097\n",
      "\n",
      "At iterate    7    f=  4.74637D+04    |proj g|=  1.84386D+01\n",
      "step: 4000, loss: 47463.660045574725, L_x: 474701.8697704414,  L_y: -6.558273234473455,  L_z: 0.01567088252653462\n",
      "step: 4250, loss: 47461.74844819131, L_x: 474682.75414258114,  L_y: -6.558307448536225,  L_z: 0.015670690865344967\n",
      "step: 4500, loss: 47404.916592374815, L_x: 474114.4385262013,  L_y: -6.558318564983255,  L_z: 0.015529159831404193\n",
      "\n",
      "At iterate    8    f=  4.74049D+04    |proj g|=  1.98886D+01\n",
      "  ys=-3.842E+01  -gs= 4.647E+00 BFGS update SKIPPED\n",
      "step: 4750, loss: 47606.40698056371, L_x: 476128.45039814804,  L_y: -6.469157974344291,  L_z: 0.015549361627505026\n",
      "step: 5000, loss: 47383.0301201169, L_x: 473895.57278099697,  L_y: -6.558393964366449,  L_z: 0.01561799078416401\n",
      "step: 5250, loss: 47451.33511369548, L_x: 474578.62663623824,  L_y: -6.55832254776849,  L_z: 0.015386309710247839\n",
      "step: 5500, loss: 47464.855780751306, L_x: 474713.83841015206,  L_y: -6.5583735027627315,  L_z: 0.015156619429126522\n",
      "\n",
      "At iterate    9    f=  4.73814D+04    |proj g|=  7.17565D+01\n",
      "\n",
      "           * * *\n",
      "\n",
      "Tit   = total number of iterations\n",
      "Tnf   = total number of function evaluations\n",
      "Tnint = total number of segments explored during Cauchy searches\n",
      "Skip  = number of BFGS updates skipped\n",
      "Nact  = number of active bounds at final generalized Cauchy point\n",
      "Projg = norm of the final projected gradient\n",
      "F     = final function value\n",
      "\n",
      "           * * *\n",
      "\n",
      "   N    Tit     Tnf  Tnint  Skip  Nact     Projg        F\n",
      "  220      9     28     14     3     5   7.176D+01   4.738D+04\n",
      "  F =   47381.376466499030     \n",
      "\n",
      "STOP: TOTAL NO. of f AND g EVALUATIONS EXCEEDS LIMIT        \n"
     ]
    }
   ],
   "source": [
    "TR = LFR(unprivileged_groups=unprivileged_groups,\n",
    "         privileged_groups=privileged_groups,\n",
    "         k=10, Ax=0.1, Ay=1.0, Az=2.0,\n",
    "         verbose=1\n",
    "        )\n",
    "TR = TR.fit(binary_dataset, maxiter=5000, maxfun=5000)\n",
    "tr_binary_transformed = TR.transform(binary_dataset)"
   ]
  },
  {
   "cell_type": "markdown",
   "metadata": {},
   "source": [
    "#### Métricas de equidad del conjunto de datos tras transformar los pesos"
   ]
  },
  {
   "cell_type": "code",
   "execution_count": 101,
   "metadata": {},
   "outputs": [
    {
     "name": "stdout",
     "output_type": "stream",
     "text": [
      "Diferencia de resultados medios entre grupos privilegiados y no privilegiados con RW = 0.000000\n"
     ]
    }
   ],
   "source": [
    "rw_transformed_bias = BinaryLabelDatasetMetric(rw_binary_transformed, \n",
    "                                         unprivileged_groups=unprivileged_groups,\n",
    "                                         privileged_groups=privileged_groups)\n",
    "print(\"Diferencia de resultados medios entre grupos privilegiados y no privilegiados con RW = %f\" % rw_transformed_bias.mean_difference())"
   ]
  },
  {
   "cell_type": "code",
   "execution_count": 102,
   "metadata": {},
   "outputs": [
    {
     "name": "stdout",
     "output_type": "stream",
     "text": [
      "Diferencia de resultados medios entre grupos privilegiados y no privilegiados con TR = 0.000000\n"
     ]
    }
   ],
   "source": [
    "tr_transformed_bias = BinaryLabelDatasetMetric(tr_binary_transformed, \n",
    "                                         unprivileged_groups=unprivileged_groups,\n",
    "                                         privileged_groups=privileged_groups)\n",
    "print(\"Diferencia de resultados medios entre grupos privilegiados y no privilegiados con TR = %f\" % tr_transformed_bias.mean_difference())"
   ]
  },
  {
   "cell_type": "markdown",
   "metadata": {},
   "source": [
    "### Testing"
   ]
  },
  {
   "cell_type": "markdown",
   "metadata": {},
   "source": [
    "#### Con el dataset con pesos REWEIGHING"
   ]
  },
  {
   "cell_type": "code",
   "execution_count": 103,
   "metadata": {},
   "outputs": [],
   "source": [
    "# Get the dataset and split into train and test\n",
    "transformed_train, transformed_test = rw_binary_transformed.split([0.8], shuffle=True)"
   ]
  },
  {
   "cell_type": "code",
   "execution_count": 104,
   "metadata": {},
   "outputs": [
    {
     "name": "stdout",
     "output_type": "stream",
     "text": [
      "Accuracy: 68.63\n"
     ]
    }
   ],
   "source": [
    "# Logistic regression classifier and predictions\n",
    "b_X_train = transformed_train.features\n",
    "b_y_train = transformed_train.labels.ravel()\n",
    "b_w_train = transformed_train.instance_weights.ravel()\n",
    "\n",
    "b_X_test = transformed_test.features\n",
    "b_y_test = transformed_test.labels.ravel()\n",
    "b_w_test = transformed_test.instance_weights.ravel() \n",
    "\n",
    "model = LogisticRegression(max_iter=1000000)\n",
    "\n",
    "model.fit(b_X_train, b_y_train, sample_weight=b_w_train)\n",
    "\n",
    "b_y_pred = model.predict(b_X_test)\n",
    "\n",
    "accuracy = accuracy_score(b_y_test, b_y_pred, sample_weight=b_w_test) \n",
    "print('Accuracy: %.2f' % (accuracy * 100))"
   ]
  },
  {
   "cell_type": "markdown",
   "metadata": {},
   "source": [
    "#### Con el dataset con pesos LFR"
   ]
  },
  {
   "cell_type": "code",
   "execution_count": 105,
   "metadata": {},
   "outputs": [],
   "source": [
    "# Get the dataset and split into train and test\n",
    "tr_X = tr_binary_transformed.convert_to_dataframe()[0]\n",
    "tr_y = tr_X.get('Class')\n",
    "tr_X = tr_X.drop('Class', axis=1)\n",
    "b_X_train, b_X_test, b_y_train, b_y_test = train_test_split(tr_X, y, test_size=0.2, random_state=0)"
   ]
  },
  {
   "cell_type": "code",
   "execution_count": 106,
   "metadata": {},
   "outputs": [
    {
     "name": "stdout",
     "output_type": "stream",
     "text": [
      "Accuracy: 71.00\n"
     ]
    }
   ],
   "source": [
    "# Logistic regression classifier and predictions\n",
    "\n",
    "model = LogisticRegression(max_iter=1000000)\n",
    "\n",
    "model.fit(b_X_train, b_y_train)\n",
    "\n",
    "b_y_pred = model.predict(b_X_test)\n",
    "\n",
    "accuracy = accuracy_score(b_y_test, b_y_pred) \n",
    "print('Accuracy: %.2f' % (accuracy * 100))\n"
   ]
  },
  {
   "cell_type": "markdown",
   "metadata": {},
   "source": [
    "#### Con el dataset sin cambios"
   ]
  },
  {
   "cell_type": "code",
   "execution_count": 107,
   "metadata": {},
   "outputs": [
    {
     "name": "stdout",
     "output_type": "stream",
     "text": [
      "Accuracy: 76.00\n"
     ]
    }
   ],
   "source": [
    "# read the original csv\n",
    "df = pd.read_csv('../data/Statlog_preprocesado.csv')\n",
    "\n",
    "categorical_column = df.select_dtypes(include=['object', 'category']).columns\n",
    "\n",
    "data_encoded = df.copy(deep=True)\n",
    "#Use Scikit-learn label encoding to encode character data\n",
    "lab_enc = preprocessing.LabelEncoder()\n",
    "for col in categorical_column:\n",
    "        data_encoded[col] = lab_enc.fit_transform(df[col])\n",
    "        le_name_mapping = dict(zip(lab_enc.classes_, lab_enc.transform(lab_enc.classes_)))\n",
    "\n",
    "model = LogisticRegression(max_iter=1000000)\n",
    "model.fit(X_train, y_train)\n",
    "\n",
    "y_pred = model.predict(X_test)\n",
    "\n",
    "accuracy = accuracy_score(y_test, y_pred)\n",
    "print('Accuracy: %.2f' % (accuracy*100))"
   ]
  },
  {
   "cell_type": "markdown",
   "metadata": {},
   "source": [
    "### Guardar los pesos\n",
    "\n",
    "Se ha demostrado que el modelo con pesos REWEIGHING es el que mejor se ajusta a los datos, por lo que se guardan los pesos obtenidos para poder utilizarlos en el modelo final."
   ]
  },
  {
   "cell_type": "code",
   "execution_count": 108,
   "metadata": {},
   "outputs": [],
   "source": [
    "# save to a csv binary_transformed.instance_weights\n",
    "df['Weights'] = rw_binary_transformed.instance_weights\n",
    "df.to_csv('../data/Statlog_weights.csv', index=False)"
   ]
  }
 ],
 "metadata": {
  "kernelspec": {
   "display_name": "xai",
   "language": "python",
   "name": "python3"
  },
  "language_info": {
   "codemirror_mode": {
    "name": "ipython",
    "version": 3
   },
   "file_extension": ".py",
   "mimetype": "text/x-python",
   "name": "python",
   "nbconvert_exporter": "python",
   "pygments_lexer": "ipython3",
   "version": "3.11.7"
  }
 },
 "nbformat": 4,
 "nbformat_minor": 2
}
