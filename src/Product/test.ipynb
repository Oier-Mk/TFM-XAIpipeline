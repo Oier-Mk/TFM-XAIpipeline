{
 "cells": [
  {
   "cell_type": "code",
   "execution_count": 1,
   "metadata": {
    "vscode": {
     "languageId": "r"
    }
   },
   "outputs": [],
   "source": [
    "read_log <- function(date) {\n",
    "  # Load required packages\n",
    "  library(jsonlite)\n",
    "  \n",
    "  # Convert date to string in 'YYYY-MM-DD' format\n",
    "  date <- format(date, \"%Y-%m-%d\")\n",
    "  \n",
    "  # Read JSON file\n",
    "  file_path <- paste0('log/log_', date, '.json')\n",
    "  data <- fromJSON(file_path)\n",
    "\n",
    "  # get the percentage of approved credits\n",
    "  n_inferences <- length(data)\n",
    "  approved  <- sum(data$output == 2)\n",
    "  percentage <- as.integer(approved / n_inferences * 100)\n",
    "  \n",
    "  return(list(inferences = data, n_inferences = n_inferences, percentage = percentage))\n",
    "}\n"
   ]
  },
  {
   "cell_type": "code",
   "execution_count": 2,
   "metadata": {
    "vscode": {
     "languageId": "r"
    }
   },
   "outputs": [],
   "source": [
    "gender_credits <- function(data) {\n",
    "  # Extract Gender information from data\n",
    "  genders <- sapply(data$input, function(sublist) sublist$Gender)\n",
    "  outputs <- unlist(data$output)\n",
    "\n",
    "  # Get the corresponding outputs for \"male\" and \"female\"\n",
    "  male_amounts <- unlist(outputs[genders == \"male\"])\n",
    "  female_amounts <- unlist(outputs[genders == \"female\"])\n",
    "\n",
    "  # Count the occurrences of each amount for males and females\n",
    "  male_counts <- table(male_amounts)\n",
    "  female_counts <- table(female_amounts)\n",
    "\n",
    "  # Calculate the total number of males and females\n",
    "  total_male <- sum(male_counts)\n",
    "  total_female <- sum(female_counts)\n",
    "\n",
    "  # Set up the plot\n",
    "  png(\"gender_distribution.png\", width=800, height=400)  # Adjust width and height as needed\n",
    "  par(mfrow=c(1, 2), mar=c(1, 1, 3, 3))  # Set up the layout and margins\n",
    "\n",
    "  # Plot for males\n",
    "  pie(male_counts, main=\"Male\", col=c(\"#9966ff\", \"#99ccff\"), labels=c(\"Denied\", \"Accepted\"))\n",
    "  legend(\"topright\", legend = c(\"Denied\", \"Accepted\"), fill = c(\"#9966ff\", \"#99ccff\"))\n",
    "  text(x=0, y=-0.9, labels=paste(\"Total Males:\", total_male), cex=0.8)\n",
    "\n",
    "  # Plot for females\n",
    "  pie(female_counts, main=\"Female\", col=c(\"#ff6666\", \"#ff99cc\"), labels=c(\"Denied\", \"Accepted\"))\n",
    "  legend(\"topright\", legend = c(\"Denied\", \"Accepted\"), fill = c(\"#ff6666\", \"#ff99cc\"))\n",
    "  text(x=0, y=-0.9, labels=paste(\"Total Females:\", total_female), cex=0.8)\n",
    "\n",
    "  # Save the plot\n",
    "  dev.off()\n",
    "}\n"
   ]
  },
  {
   "cell_type": "code",
   "execution_count": 3,
   "metadata": {
    "vscode": {
     "languageId": "r"
    }
   },
   "outputs": [],
   "source": [
    "foreign_credits <- function(data) {\n",
    "  # Extract marital status and outputs from data\n",
    "  categories <- sapply(data$input, function(sublist) sublist$`Foreign.worker`)\n",
    "  outputs <- unlist(data$output)\n",
    "\n",
    "\n",
    "  # Replace '/' with newline character\n",
    "  categories <- gsub(\"/\", \"\\n\", categories)\n",
    "  \n",
    "  # Create a data frame with categories and outputs\n",
    "  data_df <- data.frame(Category = categories, Output = outputs)\n",
    "\n",
    "  # Count occurrences of each output value for each category\n",
    "  count_data <- table(data_df$Category, data_df$Output)\n",
    "\n",
    "  # transpose the data for plotting\n",
    "  count_data <- t(count_data)\n",
    "\n",
    "  png(\"foreign_distribution.png\", width=400, height=400)  # Adjust width and height as needed\n",
    "  # Plot the barplot\n",
    "  barplot(as.matrix(count_data), beside = TRUE, \n",
    "          col = c(\"#ff6666\", \"#99ff99\"), \n",
    "          main = \"Counts of outputs by category\",\n",
    "          xlab = \"Category\", ylab = \"Count\",\n",
    "          legend = c(\"Denied\", \"Approved\"))\n",
    "  dev.off()\n",
    "}\n"
   ]
  },
  {
   "cell_type": "code",
   "execution_count": 4,
   "metadata": {
    "vscode": {
     "languageId": "r"
    }
   },
   "outputs": [],
   "source": [
    "marital_credits <- function(data) {\n",
    "  # Extract marital status and outputs from data\n",
    "  categories <- sapply(data$input, function(sublist) sublist$`Marital.Status`)\n",
    "  outputs <- unlist(data$output)\n",
    "\n",
    "\n",
    "  # Replace '/' with newline character\n",
    "  categories <- gsub(\"/\", \"\\n\", categories)\n",
    "  \n",
    "  # Create a data frame with categories and outputs\n",
    "  data_df <- data.frame(Category = categories, Output = outputs)\n",
    "\n",
    "  # Count occurrences of each output value for each category\n",
    "  count_data <- table(data_df$Category, data_df$Output)\n",
    "\n",
    "  # transpose the data for plotting\n",
    "  count_data <- t(count_data)\n",
    "\n",
    "  png(\"marital_distribution.png\", width=400, height=400)  # Adjust width and height as needed\n",
    "  # Plot the barplot\n",
    "  barplot(as.matrix(count_data), beside = TRUE, \n",
    "          col = c(\"#ff6666\", \"#99ff99\"), \n",
    "          main = \"Counts of outputs by category\",\n",
    "          xlab = \"Category\", ylab = \"Count\",\n",
    "          legend = c(\"Denied\", \"Approved\"))\n",
    "  dev.off()\n",
    "\n",
    "}"
   ]
  },
  {
   "cell_type": "code",
   "execution_count": 5,
   "metadata": {
    "vscode": {
     "languageId": "r"
    }
   },
   "outputs": [],
   "source": [
    "job_credits <- function(data) {\n",
    "  # Extract marital status and outputs from data\n",
    "  categories <- sapply(data$input, function(sublist) sublist$Job)\n",
    "  outputs <- unlist(data$output)\n",
    "\n",
    "\n",
    "  # Replace '/' with newline character\n",
    "  categories <- gsub(\"/\", \"\\n\", categories)\n",
    "  categories <- gsub(\" \", \"\\n\", categories)\n",
    "  \n",
    "  # Create a data frame with categories and outputs\n",
    "  data_df <- data.frame(Category = categories, Output = outputs)\n",
    "\n",
    "  # Count occurrences of each output value for each category\n",
    "  count_data <- table(data_df$Category, data_df$Output)\n",
    "\n",
    "  # transpose the data for plotting\n",
    "  count_data <- t(count_data)\n",
    "\n",
    "  png(\"job_distribution.png\", width=400, height=400)  # Adjust width and height as needed\n",
    "  # Plot the barplot\n",
    "  barplot(as.matrix(count_data), beside = TRUE, \n",
    "          col = c(\"#ff6666\", \"#99ff99\"), \n",
    "          main = \"Counts of outputs by category\",\n",
    "          xlab = \"Category\", ylab = \"Count\",\n",
    "          legend = c(\"Denied\", \"Approved\"))\n",
    "  dev.off()\n",
    "\n",
    "}"
   ]
  },
  {
   "cell_type": "code",
   "execution_count": 6,
   "metadata": {
    "vscode": {
     "languageId": "r"
    }
   },
   "outputs": [],
   "source": [
    "credit_inference <- function(data) {\n",
    "  dates <- unlist(data$time)\n",
    "  outputs <- as.numeric(unlist(data$output))\n",
    "\n",
    "  # Replace ' ' with newline character in dates\n",
    "  dates <- gsub(\" \", \"\\n\", dates)\n",
    "\n",
    "  # Define colors based on output values\n",
    "  colors <- ifelse(outputs == 1, \"#ff6666\", \"#99ff99\")\n",
    "\n",
    "  # Create the bar chart\n",
    "  png(\"sequence.png\", width=800, height=400)\n",
    "  barplot(outputs, names.arg=dates, col=colors, \n",
    "          xlab='Time', ylab='Denied or Approved', \n",
    "          main='Inferences over time')\n",
    "\n",
    "  # Update legend\n",
    "  legend(\"topright\", legend=c(\"Denied\", \"Approved\"), fill=c(\"#ff6666\", \"#99ff99\"))\n",
    "\n",
    "  dev.off()\n",
    "}\n"
   ]
  },
  {
   "cell_type": "code",
   "execution_count": 7,
   "metadata": {
    "vscode": {
     "languageId": "r"
    }
   },
   "outputs": [],
   "source": [
    "create_latex_document <- function(filename) {\n",
    "  # Open the file for writing\n",
    "  file_conn <- file(filename, \"w\", encoding = \"UTF-8\")\n",
    "\n",
    "    tex <- \"\n",
    "\\\\documentclass{article}\n",
    "\\\\usepackage[utf8]{inputenc}\n",
    "\\\\usepackage{graphicx}\n",
    "\\\\usepackage{geometry}\n",
    "\\\\usepackage{multicol}\n",
    "\n",
    "\n",
    "% Ajustar los márgenes para que todo quepa en una página\n",
    "\\\\geometry{\n",
    "    a4paper,\n",
    "    total={170mm,257mm},\n",
    "    left=20mm,\n",
    "    top=10mm,\n",
    "}\n",
    "\n",
    "\\\\begin{document}\n",
    "\n",
    "\n",
    "\\\\begin{flushright} % Alinea el logo a la derecha\n",
    "    \\\\includegraphics[width=1.5cm]{tex/media/logo.png} \n",
    "\\\\end{flushright}\n",
    "\n",
    "\\\\centering\n",
    "{\\\\Huge \\\\textbf{Informe}}\n",
    "\n",
    "\\\\vspace{0.5cm}\n",
    "\n",
    "{\\\\Large Autogenerado por XaiCreditCopilot}\n",
    "\n",
    "\\\\vspace{0.5cm}\n",
    "\n",
    "{\\\\large \\\\today}\n",
    "\n",
    "\\\\raggedright\n",
    "\n",
    "El presente informe ha sido autogenerado con el propósito de cumplir con el plan de seguimiento posterior del proyecto. Toda la información contenida en este documento se proporciona únicamente como un hecho informativo para evaluar el funcionamiento adecuado del sistema.\n",
    "\n",
    "\\\\begin{multicols}{2}\n",
    "\n",
    "En el presente documento se muestran estadísticas creadas por el sistema durante el último mes. Podemos apreciar cómo se han realizado {\\\\huge %s inferencias} con el sistema y se han generado conclusiones relevantes sobre el proceso de otorgamiento de créditos. Los siguientes gráficos representan la distribución de la aceptación y denegación de crédito en función de variables protegidas, como género, nacionalidad, tipo de trabajo y estado civil. Estos análisis son cruciales para identificar posibles sesgos en el proceso de toma de decisiones y garantizar la equidad en el acceso al crédito.\n",
    "\n",
    "\\\\vspace{0.5cm}\n",
    "\\\\textbf{Análisis por género:}\n",
    "\n",
    "En primer lugar, podemos apreciar dos gráficos de tarta que representan la distribución de créditos aceptados y denegados según el género de los solicitantes. Estos gráficos proporcionan una visión clara de la proporción de créditos otorgados y rechazados para mujeres y hombres. Además, se muestra el total de créditos solicitados por cada género, lo que permite una comparación directa entre la cantidad de créditos solicitados por mujeres y hombres.\n",
    "\n",
    "\\\\begin{center} % Alinea el logo a la derecha\n",
    "    \\\\includegraphics[width=8cm]{tex/media/gender.png} \n",
    "\\\\end{center}\n",
    "\n",
    "Después de un análisis exhaustivo de los registros, la aplicación ha concluido que es pertinente {\\\\huge otorgar un 999\\\\%} de los créditos evaluados durante este período.\n",
    "\n",
    "\\\\vspace{0.5cm}\n",
    "\\\\textbf{Análisis por extranjería:}\n",
    "\n",
    "Uno de los aspectos clave que se analizan en este estudio es el estatus de extranjería del solicitante. Este factor desempeña un papel fundamental en el proceso de evaluación de créditos, ya que puede influir en la decisión final sobre la aprobación o denegación del crédito. A continuación, se presentan los hallazgos relacionados con la distribución de créditos en función del estatus de extranjería de los solicitantes.\n",
    "\n",
    "\n",
    "\\\\begin{center} % Alinea el logo a la derecha\n",
    "    \\\\includegraphics[width=8cm]{tex/media/foreign.png} \n",
    "\\\\end{center}\n",
    "\n",
    "\\\\vspace{0.5cm}\n",
    "\\\\textbf{Análisis por tipo de empleo:}\n",
    "\n",
    "Otro aspecto relevante que se considera en este análisis es el puesto de trabajo del solicitante. Este factor se examina con detenimiento para evitar sesgos por nivel educativo en el conjunto de datos. Dado que el tipo de trabajo puede estar correlacionado con el nivel de ingresos y estabilidad laboral, comprender su distribución en relación con la aprobación o denegación de créditos es esencial para garantizar la equidad en el proceso de evaluación. A continuación, se presentan los resultados relacionados con la distribución de créditos según el puesto de trabajo de los solicitantes.\n",
    "\n",
    "\n",
    "\\\\begin{center} % Alinea el logo a la derecha\n",
    "    \\\\includegraphics[width=8cm]{tex/media/jobs.png} \n",
    "\\\\end{center}\n",
    "\n",
    "\\\\vspace{0.5cm}\n",
    "\\\\textbf{Análisis por estadi civil:}\n",
    "\n",
    "Otro aspecto relevante bajo estudio es el estado civil del solicitante. Reconociendo que el estado civil, como estar casado, puede conferir ciertos privilegios en algunas circunstancias, es esencial examinar su impacto en el proceso de evaluación de créditos. \n",
    "\n",
    "\\\\begin{center} % Alinea el logo a la derecha\n",
    "    \\\\includegraphics[width=8cm]{tex/media/marital.png} \n",
    "\\\\end{center}\n",
    "\n",
    "Es fundamental comprender cómo se distribuyen los créditos según diversos atributos protegidos de los solicitantes para identificar posibles sesgos y garantizar la imparcialidad en el proceso de otorgamiento.\n",
    "\n",
    "\\\\end{multicols}\n",
    "\n",
    "A continuación, se presenta una gráfica que ilustra la evolución temporal de las inferencias, reflejando la cantidad de créditos otorgados en distintos períodos.\n",
    "\n",
    "\\\\begin{center} % Alinea el logo a la derecha\n",
    "    \\\\includegraphics[width=16cm]{tex/media/sequence.png} \n",
    "\\\\end{center}\n",
    "\n",
    "En conclusión, revisar periódicamente el informe es crucial para asegurar que el modelo de inferencia opere de manera adecuada y sin sesgos en relación a los distintos atributos a lo largo del tiempo. Esta práctica no solo garantiza la precisión y fiabilidad de las decisiones tomadas por el sistema, sino que también promueve la equidad y transparencia en el proceso de evaluación de créditos.\n",
    "\n",
    "\n",
    "Con aprecio y dedicación,\n",
    "\n",
    "XaiCreditCopilot\n",
    "\n",
    "\\\\begin{center}\n",
    "    \\\\textbf{Con aprecio y dedicación,}\\\\\n",
    "    \\\\vspace{0.5cm}\n",
    "    \\\\textsc{XaiCreditCopilot}\\\\\n",
    "    \\\\vspace{0.2cm}\n",
    "\\\\end{center}\n",
    "\n",
    "{\\\\small\n",
    "Gracias por confiar en nuestro sistema para el análisis y evaluación de créditos. Estamos comprometidos a seguir mejorando y garantizar la equidad y precisión en cada decisión. No dudes en contactarnos si alguno de los parámetros difiere de un rango normal.\n",
    "}\n",
    "\n",
    "\\\\end{document}\n",
    "\"\n",
    "\n",
    "    \n",
    "  # Write LaTeX content to file\n",
    "  cat(tex, file = file_conn)\n",
    "\n",
    "  # Close the file connection\n",
    "  close(file_conn)\n",
    "}\n"
   ]
  },
  {
   "cell_type": "code",
   "execution_count": 8,
   "metadata": {
    "vscode": {
     "languageId": "r"
    }
   },
   "outputs": [],
   "source": [
    "create_latex_document <- function(filename) {\n",
    "  # LaTeX content with UTF-8 encoded characters\n",
    "  variable <- '0000'\n",
    "  tex <- \"\\\\documentclass{article}\n",
    "\\\\usepackage[utf8]{inputenc}\n",
    "\\\\begin{document}\n",
    "hormigón\n",
    "variable\n",
    "\\\\end{document}\"\n",
    "\n",
    "  # Open the file connection with UTF-8 encoding\n",
    "  con <- file(filename, \"w\", encoding = \"UTF-8\")\n",
    "\n",
    "  # Write LaTeX content to file\n",
    "  cat(tex, file = con)\n",
    "\n",
    "  # Close the file connection\n",
    "  close(con)\n",
    "}\n"
   ]
  },
  {
   "cell_type": "code",
   "execution_count": 9,
   "metadata": {
    "vscode": {
     "languageId": "r"
    }
   },
   "outputs": [],
   "source": [
    "compile_latex_to_pdf <- function(date) {\n",
    "  # Format date\n",
    "  date <- format(date, \"%Y-%m-%d\")\n",
    "\n",
    "  # Run pdflatex to compile the document\n",
    "  log_file <- file(\"tex/latex.log\", \"w\")\n",
    "#   cmd <- paste(\"pdflatex -interaction=nonstopmode -output-directory=pdf tex/\", date, \".tex\", sep=\"\")\n",
    "  cmd <-\"pdflatex -interaction=nonstopmode example.tex\"\n",
    "  system(cmd)\n",
    "  close(log_file)\n",
    "}\n"
   ]
  },
  {
   "cell_type": "code",
   "execution_count": null,
   "metadata": {
    "vscode": {
     "languageId": "r"
    }
   },
   "outputs": [],
   "source": [
    "create_report <- function(date) {\n",
    "  # Read log data\n",
    "  date <- as.Date(\"2024-03-20\")\n",
    "  read_data <- read_log(date)\n",
    "  gender_credits(read_data$inferences)\n",
    "  foreign_credits(read_data$inferences)\n",
    "  marital_credits(read_data$inferences)\n",
    "  job_credits(read_data$inferences)\n",
    "  credit_inference(read_data$inferences)\n",
    "  create_latex_document(\"example.tex\")\n",
    "  compile_latex_to_pdf(date)\n",
    "}"
   ]
  },
  {
   "cell_type": "code",
   "execution_count": 10,
   "metadata": {
    "vscode": {
     "languageId": "r"
    }
   },
   "outputs": [
    {
     "data": {
      "text/html": [
       "<strong>pdf:</strong> 2"
      ],
      "text/latex": [
       "\\textbf{pdf:} 2"
      ],
      "text/markdown": [
       "**pdf:** 2"
      ],
      "text/plain": [
       "pdf \n",
       "  2 "
      ]
     },
     "metadata": {},
     "output_type": "display_data"
    },
    {
     "data": {
      "text/html": [
       "<strong>pdf:</strong> 2"
      ],
      "text/latex": [
       "\\textbf{pdf:} 2"
      ],
      "text/markdown": [
       "**pdf:** 2"
      ],
      "text/plain": [
       "pdf \n",
       "  2 "
      ]
     },
     "metadata": {},
     "output_type": "display_data"
    },
    {
     "data": {
      "text/html": [
       "<strong>pdf:</strong> 2"
      ],
      "text/latex": [
       "\\textbf{pdf:} 2"
      ],
      "text/markdown": [
       "**pdf:** 2"
      ],
      "text/plain": [
       "pdf \n",
       "  2 "
      ]
     },
     "metadata": {},
     "output_type": "display_data"
    },
    {
     "data": {
      "text/html": [
       "<strong>pdf:</strong> 2"
      ],
      "text/latex": [
       "\\textbf{pdf:} 2"
      ],
      "text/markdown": [
       "**pdf:** 2"
      ],
      "text/plain": [
       "pdf \n",
       "  2 "
      ]
     },
     "metadata": {},
     "output_type": "display_data"
    },
    {
     "data": {
      "text/html": [
       "<strong>pdf:</strong> 2"
      ],
      "text/latex": [
       "\\textbf{pdf:} 2"
      ],
      "text/markdown": [
       "**pdf:** 2"
      ],
      "text/plain": [
       "pdf \n",
       "  2 "
      ]
     },
     "metadata": {},
     "output_type": "display_data"
    }
   ],
   "source": [
    "date <- as.Date(\"2024-03-20\")\n",
    "read_data <- read_log(date)\n",
    "gender_credits(read_data$inferences)\n",
    "foreign_credits(read_data$inferences)\n",
    "marital_credits(read_data$inferences)\n",
    "job_credits(read_data$inferences)\n",
    "credit_inference(read_data$inferences)\n",
    "create_latex_document(\"example.tex\")\n",
    "compile_latex_to_pdf(date)"
   ]
  },
  {
   "cell_type": "code",
   "execution_count": null,
   "metadata": {
    "vscode": {
     "languageId": "r"
    }
   },
   "outputs": [],
   "source": []
  },
  {
   "cell_type": "code",
   "execution_count": null,
   "metadata": {
    "vscode": {
     "languageId": "r"
    }
   },
   "outputs": [],
   "source": []
  }
 ],
 "metadata": {
  "kernelspec": {
   "display_name": "R",
   "language": "R",
   "name": "ir"
  },
  "language_info": {
   "codemirror_mode": "r",
   "file_extension": ".r",
   "mimetype": "text/x-r-source",
   "name": "R",
   "pygments_lexer": "r",
   "version": "4.3.2"
  }
 },
 "nbformat": 4,
 "nbformat_minor": 2
}
