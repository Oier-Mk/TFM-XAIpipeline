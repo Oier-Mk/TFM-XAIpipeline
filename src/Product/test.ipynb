{
 "cells": [
  {
   "cell_type": "code",
   "execution_count": 9,
   "metadata": {
    "vscode": {
     "languageId": "r"
    }
   },
   "outputs": [],
   "source": [
    "read_log <- function(date) {\n",
    "  # Load required packages\n",
    "  library(jsonlite)\n",
    "  \n",
    "  # Convert date to string in 'YYYY-MM-DD' format\n",
    "  date <- format(date, \"%Y-%m-%d\")\n",
    "  \n",
    "  # Read JSON file\n",
    "  file_path <- paste0('log/log_', date, '.json')\n",
    "  data <- fromJSON(file_path)\n",
    "\n",
    "  # get the percentage of approved credits\n",
    "  n_inferences <- length(data)\n",
    "  approved  <- sum(data$output == 2)\n",
    "  percentage <- as.integer(approved / n_inferences * 100)\n",
    "  \n",
    "  return(list(inferences = data, n_inferences = n_inferences, percentage = percentage))\n",
    "}\n"
   ]
  },
  {
   "cell_type": "code",
   "execution_count": 10,
   "metadata": {
    "vscode": {
     "languageId": "r"
    }
   },
   "outputs": [],
   "source": [
    "gender_credits <- function(data) {\n",
    "  # Extract Gender information from data\n",
    "  genders <- sapply(data$input, function(sublist) sublist$Gender)\n",
    "  outputs <- unlist(data$output)\n",
    "\n",
    "  # Get the corresponding outputs for \"male\" and \"female\"\n",
    "  male_amounts <- unlist(outputs[genders == \"male\"])\n",
    "  female_amounts <- unlist(outputs[genders == \"female\"])\n",
    "\n",
    "  # Count the occurrences of each amount for males and females\n",
    "  male_counts <- table(male_amounts)\n",
    "  female_counts <- table(female_amounts)\n",
    "\n",
    "  # Calculate the total number of males and females\n",
    "  total_male <- sum(male_counts)\n",
    "  total_female <- sum(female_counts)\n",
    "\n",
    "  # Calculate the values porcentually\n",
    "  \n",
    "\n",
    "  # Set up the plot\n",
    "  png(\"gender.png\", width=800, height=400)  # Adjust width and height as needed\n",
    "  par(mfrow=c(1, 2), mar=c(1, 1, 3, 3))  # Set up the layout and margins\n",
    "\n",
    "  # Plot for males\n",
    "  pie(male_counts, main=\"Male\", col=c(\"#9966ff\", \"#99ccff\"), labels=c(\"Denied\", \"Accepted\"))\n",
    "  legend(\"topright\", legend = c(\"Denied\", \"Accepted\"), fill = c(\"#9966ff\", \"#99ccff\"))\n",
    "  text(x=0, y=-0.9, labels=paste(\"Total Males:\", total_male), cex=0.8)\n",
    "\n",
    "  # Plot for females\n",
    "  pie(female_counts, main=\"Female\", col=c(\"#ff6666\", \"#ff99cc\"), labels=c(\"Denied\", \"Accepted\"))\n",
    "  legend(\"topright\", legend = c(\"Denied\", \"Accepted\"), fill = c(\"#ff6666\", \"#ff99cc\"))\n",
    "  text(x=0, y=-0.9, labels=paste(\"Total Females:\", total_female), cex=0.8)\n",
    "\n",
    "  # Save the plot\n",
    "  dev.off()\n",
    "}\n"
   ]
  },
  {
   "cell_type": "code",
   "execution_count": 11,
   "metadata": {
    "vscode": {
     "languageId": "r"
    }
   },
   "outputs": [],
   "source": [
    "gender_credits <- function(data) {\n",
    "  # Extract Gender information from data\n",
    "  genders <- sapply(data$input, function(sublist) sublist$Gender)\n",
    "  outputs <- unlist(data$output)\n",
    "\n",
    "  # Get the corresponding outputs for \"male\" and \"female\"\n",
    "  male_amounts <- unlist(outputs[genders == \"male\"])\n",
    "  female_amounts <- unlist(outputs[genders == \"female\"])\n",
    "\n",
    "  # Count the occurrences of each amount for males and females\n",
    "  male_counts <- table(male_amounts)\n",
    "  female_counts <- table(female_amounts)\n",
    "\n",
    "  # Calculate the total number of males and females\n",
    "  total_male <- sum(male_counts)\n",
    "  total_female <- sum(female_counts)\n",
    "\n",
    "  # Calculate the values proportionally\n",
    "  male_percentages <- prop.table(male_counts) * 100\n",
    "  female_percentages <- prop.table(female_counts) * 100\n",
    "\n",
    "  # Set up the plot\n",
    "  png(\"tex/media/gender.png\", width=800, height=400)  # Adjust width and height as needed\n",
    "  par(mfrow=c(1, 2), mar=c(1, 1, 3, 3))  # Set up the layout and margins\n",
    "\n",
    "  # Plot for males\n",
    "  pie(male_counts, main=\"Male\", col=c(\"#9966ff\", \"#99ccff\"), labels=c(\"Denied\", \"Accepted\"))\n",
    "  legend(\"topright\", legend = c(\"Denied\", \"Accepted\"), fill = c(\"#9966ff\", \"#99ccff\"))\n",
    "  text(x=0, y=-0.9, labels=paste(\"Total Males:\", total_male, \"(\", round(male_percentages[1], 2), \"% Denied, \", round(male_percentages[2], 2), \"% Accepted)\"), cex=0.8)\n",
    "\n",
    "  # Plot for females\n",
    "  pie(female_counts, main=\"Female\", col=c(\"#ff6666\", \"#ff99cc\"), labels=c(\"Denied\", \"Accepted\"))\n",
    "\n",
    "  # Add rectangle to indicate protected attribute\n",
    "  rect(xleft = -3.5, xright = 3.5, ybottom = -3.5, ytop = 3.5, col = rgb(0, 1, 0, 0.1), border = NA)\n",
    "\n",
    "  legend(\"topright\", legend = c(\"Denied\", \"Approved\", \"Protected Attribute\"), fill = c(\"#ff6666\", \"#99ff99\", rgb(0, 1, 0, 0.2)), title = \"Legend\")\n",
    "  text(x=0, y=-0.9, labels=paste(\"Total Females:\", total_female, \"(\", round(female_percentages[1], 2), \"% Denied, \", round(female_percentages[2], 2), \"% Accepted)\"), cex=0.8)\n",
    "  \n",
    "  # Save the plot\n",
    "  dev.off()\n",
    "}\n"
   ]
  },
  {
   "cell_type": "code",
   "execution_count": 12,
   "metadata": {
    "vscode": {
     "languageId": "r"
    }
   },
   "outputs": [],
   "source": [
    "foreign_credits <- function(data) {\n",
    "  # Extract marital status and outputs from data\n",
    "  categories <- sapply(data$input, function(sublist) sublist$`Foreign.worker`)\n",
    "  outputs <- unlist(data$output)\n",
    "\n",
    "  # Replace '/' with newline character\n",
    "  categories <- gsub(\"/\", \"\\n\", categories)\n",
    "  \n",
    "  # Create a data frame with categories and outputs\n",
    "  data_df <- data.frame(Category = categories, Output = outputs)\n",
    "\n",
    "  # Count occurrences of each output value for each category\n",
    "  count_data <- table(data_df$Category, data_df$Output)\n",
    "\n",
    "  # Transpose the data for plotting\n",
    "  count_data <- t(count_data)\n",
    "\n",
    "  # Calculate row sums (totals) for percentages\n",
    "  row_sums <- apply(count_data, 1, sum)\n",
    "\n",
    "  # Calculate percentages\n",
    "  count_data_percent <- prop.table(count_data, margin = 1) * 100\n",
    "\n",
    "  png(\"tex/media/foreign.png\", width=400, height=400)  # Adjust width and height as needed\n",
    "  # Plot the barplot\n",
    "  barplot(as.matrix(count_data_percent), beside = TRUE, \n",
    "          col = c(\"#ff6666\", \"#99ff99\"), \n",
    "          main = \"Percentage of outputs by category\",\n",
    "          xlab = \"Category\", ylab = \"Percentage\",\n",
    "          legend = c(\"Denied\", \"Approved\"))\n",
    "  \n",
    "  # Add rectangle to indicate protected attribute\n",
    "  rect(xleft = 8.75 , xright = 3.75, ybottom = -5, ytop = 100, col = rgb(0, 1, 0, 0.2), border = NA)\n",
    "  \n",
    "  # Add protected attribute to legend\n",
    "  legend(\"topright\", legend = c(\"Denied\", \"Approved\", \"Protected Attribute\"), fill = c(\"#ff6666\", \"#99ff99\", rgb(0, 1, 0, 0.2)), title = \"Legend\")\n",
    "\n",
    "  dev.off()\n",
    "}\n"
   ]
  },
  {
   "cell_type": "code",
   "execution_count": 13,
   "metadata": {
    "vscode": {
     "languageId": "r"
    }
   },
   "outputs": [],
   "source": [
    "marital_credits <- function(data) {\n",
    "  # Extract marital status and outputs from data\n",
    "  categories <- sapply(data$input, function(sublist) sublist$`Marital.Status`)\n",
    "  outputs <- unlist(data$output)\n",
    "\n",
    "  # Replace '/' with newline character\n",
    "  categories <- gsub(\"/\", \"\\n\", categories)\n",
    "  \n",
    "  # Create a data frame with categories and outputs\n",
    "  data_df <- data.frame(Category = categories, Output = outputs)\n",
    "\n",
    "  # Count occurrences of each output value for each category\n",
    "  count_data <- table(data_df$Category, data_df$Output)\n",
    "\n",
    "  # Transpose the data for plotting\n",
    "  count_data <- t(count_data)\n",
    "\n",
    "  # Calculate column-wise percentages\n",
    "  col_percentages <- prop.table(count_data, margin = 2) * 100\n",
    "\n",
    "  png(\"tex/media/marital.png\", width=600, height=400)  # Adjust width and height as needed\n",
    "  par(mar=c(5, 4, 4, 6))  # Adjust the margin to accommodate the legend\n",
    "\n",
    "  # Plot the barplot with percentages\n",
    "  barplot(as.matrix(col_percentages), beside = TRUE, \n",
    "          col = c(\"#ff6666\", \"#99ff99\"), \n",
    "          main = \"Percentage of outputs by marital status\",\n",
    "          xlab = \"Marital Status\", ylab = \"Percentage\",\n",
    "          legend = c(\"Denied\", \"Approved\"))\n",
    "\n",
    "  # Add rectangles to indicate protected attribute\n",
    "  rect(xleft = 0, xright = 3.5, ybottom = 0, ytop = 100, col = rgb(0, 1, 0, 0.2), border = NA)\n",
    "  rect(xleft = 6.5, xright = 10, ybottom = 0, ytop = 100, col = rgb(0, 1, 0, 0.2), border = NA)\n",
    "\n",
    "  # Add protected attribute to legend\n",
    "  legend(\"topright\", legend = c(\"Denied\", \"Approved\", \"Protected Attribute\"), fill = c(\"#ff6666\", \"#99ff99\", rgb(0, 1, 0, 0.2)), title = \"Legend\")\n",
    "\n",
    "  dev.off()\n",
    "}"
   ]
  },
  {
   "cell_type": "code",
   "execution_count": 14,
   "metadata": {
    "vscode": {
     "languageId": "r"
    }
   },
   "outputs": [],
   "source": [
    "job_credits <- function(data) {\n",
    "  # Extract job categories and outputs from data\n",
    "  categories <- sapply(data$input, function(sublist) sublist$Job)\n",
    "  outputs <- unlist(data$output)\n",
    "\n",
    "  # Replace spaces with newline character\n",
    "  categories <- gsub(\" \", \"\\n\", categories)\n",
    "  \n",
    "  # Create a data frame with categories and outputs\n",
    "  data_df <- data.frame(Category = categories, Output = outputs)\n",
    "\n",
    "  # Count occurrences of each output value for each category\n",
    "  count_data <- table(data_df$Category, data_df$Output)\n",
    "\n",
    "  # Transpose the data for plotting\n",
    "  count_data <- t(count_data)\n",
    "\n",
    "  # Calculate row-wise percentages\n",
    "  row_percentages <- prop.table(count_data, margin = 1) * 100\n",
    "\n",
    "  png(\"tex/media/jobs.png\", width=600, height=400)  # Adjust width and height as needed\n",
    "  par(mar=c(5, 4, 4, 6))  # Adjust the margin to accommodate the legend\n",
    "\n",
    "  # Plot the barplot with percentages\n",
    "  barplot(as.matrix(row_percentages), beside = TRUE, \n",
    "          col = c(\"#ff6666\", \"#99ff99\"), \n",
    "          main = \"Percentage of outputs by job category\",\n",
    "          xlab = \"Job Category\", ylab = \"Percentage\")\n",
    "\n",
    "  # Add rectangles to indicate protected attribute\n",
    "  rect(xleft = 6.5, xright = 9.5, ybottom = 0, ytop = 100, col = rgb(0, 1, 0, 0.2), border = NA)\n",
    "  rect(xleft = 9.5, xright = 15, ybottom = 0, ytop = 100, col = rgb(0, 1, 0, 0.2), border = NA)\n",
    "\n",
    "  # Add protected attribute to legend in a margin\n",
    "  legend(\"topright\", legend = c(\"Denied\", \"Approved\", \"Protected Attribute\"), fill = c(\"#ff6666\", \"#99ff99\", rgb(0, 1, 0, 0.2)), title = \"Legend\", xpd = TRUE)\n",
    "\n",
    "  dev.off()\n",
    "}\n"
   ]
  },
  {
   "cell_type": "code",
   "execution_count": 15,
   "metadata": {
    "vscode": {
     "languageId": "r"
    }
   },
   "outputs": [],
   "source": [
    "credit_inference <- function(data) {\n",
    "  dates <- unlist(data$time)\n",
    "  outputs <- as.numeric(unlist(data$output))\n",
    "\n",
    "  # Replace ' ' with newline character in dates\n",
    "  dates <- gsub(\" \", \"\\n\", dates)\n",
    "\n",
    "  # Define colors based on output values\n",
    "  colors <- ifelse(outputs == 1, \"#ff6666\", \"#99ff99\")\n",
    "\n",
    "  # Create the bar chart\n",
    "  png(\"tex/media/sequence.png\", width=800, height=400)\n",
    "  barplot(outputs, names.arg=dates, col=colors, \n",
    "          xlab='Time', ylab='Denied or Approved', \n",
    "          main='Inferences over time')\n",
    "\n",
    "  # Update legend\n",
    "  legend(\"topright\", legend=c(\"Denied\", \"Approved\"), fill=c(\"#ff6666\", \"#99ff99\"))\n",
    "\n",
    "  dev.off()\n",
    "}\n"
   ]
  },
  {
   "cell_type": "code",
   "execution_count": 16,
   "metadata": {
    "vscode": {
     "languageId": "r"
    }
   },
   "outputs": [
    {
     "data": {
      "text/html": [
       "<strong>pdf:</strong> 2"
      ],
      "text/latex": [
       "\\textbf{pdf:} 2"
      ],
      "text/markdown": [
       "**pdf:** 2"
      ],
      "text/plain": [
       "pdf \n",
       "  2 "
      ]
     },
     "metadata": {},
     "output_type": "display_data"
    },
    {
     "data": {
      "text/html": [
       "<strong>pdf:</strong> 2"
      ],
      "text/latex": [
       "\\textbf{pdf:} 2"
      ],
      "text/markdown": [
       "**pdf:** 2"
      ],
      "text/plain": [
       "pdf \n",
       "  2 "
      ]
     },
     "metadata": {},
     "output_type": "display_data"
    },
    {
     "data": {
      "text/html": [
       "<strong>pdf:</strong> 2"
      ],
      "text/latex": [
       "\\textbf{pdf:} 2"
      ],
      "text/markdown": [
       "**pdf:** 2"
      ],
      "text/plain": [
       "pdf \n",
       "  2 "
      ]
     },
     "metadata": {},
     "output_type": "display_data"
    },
    {
     "data": {
      "text/html": [
       "<strong>pdf:</strong> 2"
      ],
      "text/latex": [
       "\\textbf{pdf:} 2"
      ],
      "text/markdown": [
       "**pdf:** 2"
      ],
      "text/plain": [
       "pdf \n",
       "  2 "
      ]
     },
     "metadata": {},
     "output_type": "display_data"
    },
    {
     "data": {
      "text/html": [
       "<strong>pdf:</strong> 2"
      ],
      "text/latex": [
       "\\textbf{pdf:} 2"
      ],
      "text/markdown": [
       "**pdf:** 2"
      ],
      "text/plain": [
       "pdf \n",
       "  2 "
      ]
     },
     "metadata": {},
     "output_type": "display_data"
    }
   ],
   "source": [
    "date <- as.Date(\"2024-03-20\")\n",
    "read_data <- read_log(date)\n",
    "gender_credits(read_data$inferences)\n",
    "foreign_credits(read_data$inferences)\n",
    "marital_credits(read_data$inferences)\n",
    "job_credits(read_data$inferences)\n",
    "credit_inference(read_data$inferences)"
   ]
  },
  {
   "cell_type": "code",
   "execution_count": null,
   "metadata": {
    "vscode": {
     "languageId": "r"
    }
   },
   "outputs": [],
   "source": []
  },
  {
   "cell_type": "code",
   "execution_count": null,
   "metadata": {
    "vscode": {
     "languageId": "r"
    }
   },
   "outputs": [],
   "source": []
  }
 ],
 "metadata": {
  "kernelspec": {
   "display_name": "R",
   "language": "R",
   "name": "ir"
  },
  "language_info": {
   "codemirror_mode": "r",
   "file_extension": ".r",
   "mimetype": "text/x-r-source",
   "name": "R",
   "pygments_lexer": "r",
   "version": "4.3.2"
  }
 },
 "nbformat": 4,
 "nbformat_minor": 2
}
